{
  "nbformat": 4,
  "nbformat_minor": 0,
  "metadata": {
    "colab": {
      "provenance": []
    },
    "kernelspec": {
      "name": "python3",
      "display_name": "Python 3"
    },
    "language_info": {
      "name": "python"
    }
  },
  "cells": [
    {
      "cell_type": "markdown",
      "source": [
        "#** Python OOPs  theory Questions**"
      ],
      "metadata": {
        "id": "-ICbJaiiR6tn"
      }
    },
    {
      "cell_type": "markdown",
      "source": [
        "#Q.1 What is Object-Oriented Programming (OOP) ?"
      ],
      "metadata": {
        "id": "WsFOSJ_TUqD4"
      }
    },
    {
      "cell_type": "markdown",
      "source": [
        "ANS -\n",
        "\n",
        " Object-Oriented Programming (OOP) is a programming paradigm based on the concept of \"objects.\" These objects can contain data in the form of fields (also known as attributes or properties), and code in the form of methods (functions associated with the object). OOP is designed to make code more modular, reusable, and easier to manage, especially in large software projects.\n",
        "\n",
        "🧱 Key Concepts of OOP:\n",
        "\n",
        "Class: A blueprint for creating objects. It defines what data and behavior the\n",
        "object will have.\n",
        "\n",
        "Object: An instance of a class. It holds actual values in its fields and can perform actions through its methods.\n",
        "\n",
        "Encapsulation: Bundling data and methods that operate on the data into a single unit (class), and restricting access to some of the object's components.\n",
        "\n",
        "Inheritance: A way to form new classes using existing classes. The new class (child) inherits the attributes and methods of the existing class (parent).\n",
        "\n",
        "Polymorphism: The ability to use a single interface to represent different types of objects or methods. Basically, same method name, different behaviors.\n",
        "\n",
        "Abstraction: Hiding complex implementation details and showing only the essential features of the object.\n",
        "\n",
        "🛠️ Example (in Python):"
      ],
      "metadata": {
        "id": "OrzEZkeaWMNF"
      }
    },
    {
      "cell_type": "code",
      "execution_count": 1,
      "metadata": {
        "colab": {
          "base_uri": "https://localhost:8080/"
        },
        "id": "Jn_TenuhQMfc",
        "outputId": "89ffa907-6320-494e-fdd2-81126fd2bede"
      },
      "outputs": [
        {
          "output_type": "stream",
          "name": "stdout",
          "text": [
            "Buddy\n",
            "Woof!\n"
          ]
        }
      ],
      "source": [
        "class Animal:\n",
        "    def __init__(self, name):\n",
        "        self.name = name\n",
        "\n",
        "    def speak(self):\n",
        "        return \"Some sound\"\n",
        "\n",
        "class Dog(Animal):  # Inherits from Animal\n",
        "    def speak(self):\n",
        "        return \"Woof!\"\n",
        "\n",
        "dog = Dog(\"Buddy\")\n",
        "print(dog.name)      # Buddy\n",
        "print(dog.speak())   # Woof!\n"
      ]
    },
    {
      "cell_type": "markdown",
      "source": [
        "#Q.2 WHAT What is a class in OOP ?\n"
      ],
      "metadata": {
        "id": "sZXe1lFDXCbu"
      }
    },
    {
      "cell_type": "markdown",
      "source": [
        "ANS -\n",
        "In Object-Oriented Programming (OOP), a class is like a blueprint or template for creating objects.\n",
        "\n",
        "🧱 What is a Class?\n",
        "\n",
        "A class defines the structure and behavior of objects:\n",
        "\n",
        "Structure = the data (called attributes or fields)\n",
        "\n",
        "Behavior = the functions (called methods) the object can perform\n",
        "\n",
        "🧠 Think of it like:\n",
        "A class is a recipe 🍪\n",
        "\n",
        "An object is a cookie made from that recipe\n",
        "\n",
        "You can bake (create) many cookies (objects) from the same recipe (class), and each can have its own specific toppings (data values).\n",
        "\n",
        "🛠️ Example in Python:"
      ],
      "metadata": {
        "id": "LAvX-rA0YFzu"
      }
    },
    {
      "cell_type": "code",
      "source": [
        "class Car:\n",
        "    def __init__(self, brand, model):\n",
        "        self.brand = brand\n",
        "        self.model = model\n",
        "\n",
        "    def drive(self):\n",
        "        print(f\"{self.brand} {self.model} is driving.\")\n"
      ],
      "metadata": {
        "id": "Kpdnt7s4YWPz"
      },
      "execution_count": 2,
      "outputs": []
    },
    {
      "cell_type": "markdown",
      "source": [
        "# Q.3  What is an object in OOP  ?"
      ],
      "metadata": {
        "id": "E1txiRrSYgyS"
      }
    },
    {
      "cell_type": "markdown",
      "source": [
        "ANS-  \n",
        "Object-Oriented Programming (OOP), an object is an instance of a class.\n",
        "\n",
        "📦 What is an Object?\n",
        "\n",
        "An object:\n",
        "\n",
        "Is created based on a class.\n",
        "\n",
        "Contains data (called attributes or fields).\n",
        "\n",
        "Can perform actions (through methods defined in the class).\n",
        "\n",
        "Has its own unique identity, even if it's made from the same class as others.\n",
        "\n",
        "🧠 Simple Analogy:\n",
        "Class = blueprint of a house 🏠\n",
        "\n",
        "Object = actual house built from the blueprint 🏡\n",
        "\n",
        "Each house may look the same but have different colors, furniture, or addresses — same class, different objects.\n",
        "\n",
        "🛠️ Example in Python:"
      ],
      "metadata": {
        "id": "DRN_MOuRZQKA"
      }
    },
    {
      "cell_type": "code",
      "source": [
        "class Dog:\n",
        "    def __init__(self, name, breed):\n",
        "        self.name = name\n",
        "        self.breed = breed\n",
        "\n",
        "    def bark(self):\n",
        "        print(f\"{self.name} says Woof!\")\n",
        "\n",
        "# Creating objects from the Dog class\n",
        "dog1 = Dog(\"Buddy\", \"Labrador\")\n",
        "dog2 = Dog(\"Max\", \"Poodle\")\n",
        "\n",
        "dog1.bark()  # Output: Buddy says Woof!\n",
        "dog2.bark()  # Output: Max says Woof!\n"
      ],
      "metadata": {
        "colab": {
          "base_uri": "https://localhost:8080/"
        },
        "id": "toev4IOdZrd-",
        "outputId": "f23f95cb-700f-4a98-c785-108aceb4dbdc"
      },
      "execution_count": 3,
      "outputs": [
        {
          "output_type": "stream",
          "name": "stdout",
          "text": [
            "Buddy says Woof!\n",
            "Max says Woof!\n"
          ]
        }
      ]
    },
    {
      "cell_type": "markdown",
      "source": [
        "# Q. 4 What is the difference between abstraction and encapsulation ?"
      ],
      "metadata": {
        "id": "7EMo2Nenre2v"
      }
    },
    {
      "cell_type": "markdown",
      "source": [
        "ANS-\n",
        "\n",
        "Abstraction and encapsulation are two fundamental concepts in object-oriented programming (OOP), and while they are often related and used together, they serve different purposes. Here's a breakdown of their differences:\n",
        "\n",
        "Abstraction:\n",
        "\n",
        "What it is:\n",
        "Abstraction is about hiding complex implementation details and showing only the essential information to the user. It focuses on what an object does rather than how it does it.\n",
        "Goal:\n",
        " To reduce complexity and make the system easier to understand and use by providing a simplified view.\n",
        "How it's achieved:\n",
        "\n",
        "Abstract classes and interfaces:\n",
        " These define a contract for what a class should do without specifying the implementation. Subclasses then provide the concrete implementation.\n",
        "Access modifiers (public, protected): By making certain methods and attributes public, you expose the necessary functionalities while keeping the internal workings hidden.\n",
        "Analogy:\n",
        " Think of a car driver. They interact with the steering wheel, accelerator, and brakes (the essential interface) without needing to know the intricate details of the engine, transmission, or braking system.\n",
        "Encapsulation:\n",
        "\n",
        "What it is:\n",
        " Encapsulation is about bundling data (attributes) and the methods that operate on that data into a single unit (a class). It also involves controlling access to the internal data, often to prevent direct modification from outside the class.\n",
        "Goal:\n",
        " To protect the integrity of the data by restricting unauthorized access and modification. It promotes data hiding and helps in maintaining the consistency of the object's state.\n",
        "\n",
        "How it's achieved:\n",
        "\n",
        "Classes:\n",
        " Classes are the primary mechanism for encapsulation, grouping data and methods together.\n",
        "\n",
        "Access modifiers (private, protected, public): By declaring attributes as private, you prevent direct external access. Public methods (getters and setters) can then be provided to control how the data is accessed and modified.\n",
        "Analogy:\n",
        "\n",
        " Consider a medicine capsule. It contains various ingredients (data) enclosed within a shell. You can't directly access the ingredients; you have to take the whole capsule. The capsule (class) protects the ingredients (data) and controls how they are used.\n",
        " Abstraction and encapsulation are two fundamental concepts in object-oriented programming (OOP), and while they are often related and used together, they serve different purposes. Here's a breakdown of their differences:\n",
        "\n",
        "Abstraction:\n",
        "\n",
        "What it is: Abstraction is about hiding complex implementation details and showing only the essential information to the user. It focuses on what an object does rather than how it does it.\n",
        "Goal: To reduce complexity and make the system easier to understand and use by providing a simplified view.\n",
        "How it's achieved:\n",
        "Abstract classes and interfaces: These define a contract for what a class should do without specifying the implementation. Subclasses then provide the concrete implementation.\n",
        "Access modifiers (public, protected): By making certain methods and attributes public, you expose the necessary functionalities while keeping the internal workings hidden.\n",
        "Analogy: Think of a car driver. They interact with the steering wheel, accelerator, and brakes (the essential interface) without needing to know the intricate details of the engine, transmission, or braking system.\n",
        "Encapsulation:\n",
        "\n",
        "What it is: Encapsulation is about bundling data (attributes) and the methods that operate on that data into a single unit (a class). It also involves controlling access to the internal data, often to prevent direct modification from outside the class.\n",
        "Goal: To protect the integrity of the data by restricting unauthorized access and modification. It promotes data hiding and helps in maintaining the consistency of the object's state.\n",
        "How it's achieved:\n",
        "Classes: Classes are the primary mechanism for encapsulation, grouping data and methods together.\n",
        "Access modifiers (private, protected, public): By declaring attributes as private, you prevent direct external access. Public methods (getters and setters) can then be provided to control how the data is accessed and modified.\n",
        "Analogy: Consider a medicine capsule. It contains various ingredients (data) enclosed within a shell. You can't directly access the ingredients; you have to take the whole capsule. The capsule (class) protects the ingredients (data) and controls how they are used.\n",
        "\n",
        "Feature\tAbstraction\tEncapsulation\n",
        "Focus\tWhat an object does (essential functionalities)\tHow an object manages its data (data protection)\n",
        "Goal\tReduce complexity, simplify usage\tProtect data integrity, control access\n",
        "Level\tDesign level (interface)\tImplementation level (data hiding)\n",
        "Mechanism\tAbstract classes, interfaces, public access\tClasses, access modifiers (private, protected, public)\n",
        "Hides\tImplementation details\tData and implementation details\n",
        "Analogy\tCar driver using controls\tMedicine capsule protecting ingredients\n",
        "\n",
        "Export to Sheets\n",
        "Relationship between Abstraction and Encapsulation:\n",
        "\n",
        "They often work together to achieve a well-structured and robust OOP design.\n",
        "\n",
        "Encapsulation can help in achieving abstraction by hiding the internal data and implementation details that are not necessary for the user to know.\n",
        "\n",
        "The public methods provided in an encapsulated class often represent the abstract interface through which users interact with the object.\n",
        "\n",
        "\n",
        "In essence, abstraction helps you see the important things, while encapsulation helps you protect those things and manage their internal workings.\n",
        "\n",
        "\n"
      ],
      "metadata": {
        "id": "wYuspXWesrjo"
      }
    },
    {
      "cell_type": "code",
      "source": [
        "class BankAccount:\n",
        "    def __init__(self, balance):\n",
        "        self.__balance = balance  # Encapsulated with double underscore\n",
        "\n",
        "    def deposit(self, amount):\n",
        "        if amount > 0:\n",
        "            self.__balance += amount\n",
        "\n",
        "    def get_balance(self):\n",
        "        return self.__balance\n"
      ],
      "metadata": {
        "id": "xZSSmLQIuMnq"
      },
      "execution_count": 4,
      "outputs": []
    },
    {
      "cell_type": "markdown",
      "source": [
        "# Q. 5  What are dunder methods in Python ?"
      ],
      "metadata": {
        "id": "t3uHOQ-nuPX8"
      }
    },
    {
      "cell_type": "markdown",
      "source": [
        "ANS -\n",
        "What are Dunder Methods?\n",
        "\n",
        "Dunder methods (short for \"double underscore\" methods) are special methods in Python with names that start and end with double underscores, like __init__, __str__, __len__, etc.\n",
        "\n",
        "🔹 They're also called magic methods.\n",
        "🔹 Python uses them to let you define how objects of your class behave in certain situations (like printing, adding, comparing, etc.).\n",
        "\n"
      ],
      "metadata": {
        "id": "UvrN9fhUujok"
      }
    },
    {
      "cell_type": "code",
      "source": [
        "class Book:\n",
        "    def __init__(self, title, pages):\n",
        "        self.title = title\n",
        "        self.pages = pages\n",
        "\n",
        "    def __str__(self):\n",
        "        return f\"📘 {self.title}\"\n",
        "\n",
        "    def __len__(self):\n",
        "        return self.pages\n",
        "\n",
        "book = Book(\"Python Basics\", 300)\n",
        "\n",
        "print(book)       # Output: 📘 Python Basics (thanks to __str__)\n",
        "print(len(book))  # Output: 300 (thanks to __len__)\n",
        "\n"
      ],
      "metadata": {
        "colab": {
          "base_uri": "https://localhost:8080/"
        },
        "id": "nRglLH8VuoPF",
        "outputId": "ddbc8e18-5f6d-49e5-c6e8-b9273638730f"
      },
      "execution_count": 5,
      "outputs": [
        {
          "output_type": "stream",
          "name": "stdout",
          "text": [
            "📘 Python Basics\n",
            "300\n"
          ]
        }
      ]
    },
    {
      "cell_type": "markdown",
      "source": [
        "# Q.6 H Explain the concept of inheritance in OOP ?"
      ],
      "metadata": {
        "id": "H98eAz6Ru9lg"
      }
    },
    {
      "cell_type": "markdown",
      "source": [
        "ANS-\n",
        "Inheritance is a core concept in Object-Oriented Programming (OOP) that allows one class to acquire the properties and behaviors (fields and methods) of another class.\n",
        "\n",
        "In simple terms:\n",
        "\n",
        "Think of it like a parent-child relationship. The child class (subclass) inherits features from the parent class (superclass) and can also have its own additional features or override the inherited ones.\n",
        "\n",
        "Why is inheritance useful?\n",
        "\n",
        "Code reuse – You write common code once in a base class.\n",
        "\n",
        "Extensibility – You can extend existing code with new functionality.\n",
        "\n",
        "Maintainability – Shared code is easier to update in one place.\n",
        "\n",
        "Example in Python:"
      ],
      "metadata": {
        "id": "OGkr1LvGvHQO"
      }
    },
    {
      "cell_type": "code",
      "source": [
        "class Animal:\n",
        "    def speak(self):\n",
        "        print(\"This animal makes a sound\")\n",
        "\n",
        "class Dog(Animal):\n",
        "    def speak(self):\n",
        "        print(\"The dog barks\")\n",
        "\n",
        "# Usage\n",
        "a = Animal()\n",
        "a.speak()  # Output: This animal makes a sound\n",
        "\n",
        "d = Dog()\n",
        "d.speak()  # Output: The dog barks\n"
      ],
      "metadata": {
        "colab": {
          "base_uri": "https://localhost:8080/"
        },
        "id": "L0dgRikxwSSB",
        "outputId": "da31f88d-799e-4d2e-e53e-bb7439ed4570"
      },
      "execution_count": 6,
      "outputs": [
        {
          "output_type": "stream",
          "name": "stdout",
          "text": [
            "This animal makes a sound\n",
            "The dog barks\n"
          ]
        }
      ]
    },
    {
      "cell_type": "markdown",
      "source": [
        "# Q. 7 What is polymorphism in OOP ?"
      ],
      "metadata": {
        "id": "-eHbiK2OwX21"
      }
    },
    {
      "cell_type": "markdown",
      "source": [
        "ANS-\n",
        "polymorphism, another key pillar of Object-Oriented Programming (OOP).\n",
        "\n",
        "🔁 What is Polymorphism?\n",
        "\n",
        "Polymorphism means \"many forms.\" In OOP, it allows objects of different classes to be treated as objects of a common superclass—but behave differently based on their actual class.\n",
        "\n",
        "In short: Same interface, different implementation.\n",
        "\n",
        "💡 Why is it useful?\n",
        "\n",
        "Flexibility – Write more general and reusable code.\n",
        "\n",
        "Scalability – Add new types with minimal changes to existing code.\n",
        "\n",
        "Readability – Abstract away the details and focus on behavior.\n",
        "\n",
        "✅ Two main types of polymorphism in OOP:\n",
        "\n",
        "1. Compile-time polymorphism (aka Method Overloading)\n",
        "Same method name, different parameters.\n",
        "\n",
        "Decided at compile time (mostly in statically-typed languages like Java, C++).\n"
      ],
      "metadata": {
        "id": "R5S2_huYwuI4"
      }
    },
    {
      "cell_type": "code",
      "source": [
        "class Calculator:\n",
        "    def add(self, x, y):\n",
        "        return x + y\n",
        "\n",
        "    def add(self, x, y, z):\n",
        "        return x + y + z\n",
        "\n",
        "    def add(self, a, b): # In Python, the last definition overrides earlier ones, but conceptually...\n",
        "        if isinstance(a, str) and isinstance(b, str):\n",
        "            return a + b\n",
        "        elif isinstance(a, int) and isinstance(b, int):\n",
        "            return a + b\n",
        "        else:\n",
        "            raise TypeError(\"Unsupported operand types\")\n",
        "\n",
        "calc = Calculator()\n",
        "print(calc.add(2, 3))       # Calls the add(int, int) version (conceptually)\n",
        "print(calc.add(\"Hello\", \"World\")) # Calls the add(str, str) version (conceptually)\n",
        "# print(calc.add(2, 3, 4))   # Would call the add(int, int, int) version (conceptually)"
      ],
      "metadata": {
        "colab": {
          "base_uri": "https://localhost:8080/"
        },
        "id": "pauXeVOkxBAK",
        "outputId": "02accdc1-ddd8-4254-a301-d0be1eb7d948"
      },
      "execution_count": 8,
      "outputs": [
        {
          "output_type": "stream",
          "name": "stdout",
          "text": [
            "5\n",
            "HelloWorld\n"
          ]
        }
      ]
    },
    {
      "cell_type": "code",
      "source": [
        "class Animal:\n",
        "    def speak(self):\n",
        "        print(\"Generic animal sound\")\n",
        "\n",
        "class Dog(Animal):\n",
        "    def speak(self):\n",
        "        print(\"Woof!\")\n",
        "\n",
        "class Cat(Animal):\n",
        "    def speak(self):\n",
        "        print(\"Meow!\")\n",
        "\n",
        "def animal_sound(animal):\n",
        "    animal.speak()\n",
        "\n",
        "my_dog = Dog()\n",
        "my_cat = Cat()\n",
        "generic_animal = Animal()\n",
        "\n",
        "animal_sound(my_dog)        # Output: Woof!\n",
        "animal_sound(my_cat)        # Output: Meow!\n",
        "animal_sound(generic_animal) # Output: Generic animal sound"
      ],
      "metadata": {
        "colab": {
          "base_uri": "https://localhost:8080/"
        },
        "id": "D7b_Vmapx-Pp",
        "outputId": "329e56d6-dcd6-45eb-f1ce-4931d451bef6"
      },
      "execution_count": 9,
      "outputs": [
        {
          "output_type": "stream",
          "name": "stdout",
          "text": [
            "Woof!\n",
            "Meow!\n",
            "Generic animal sound\n"
          ]
        }
      ]
    },
    {
      "cell_type": "markdown",
      "source": [],
      "metadata": {
        "id": "6Z_Ts6WhyBiY"
      }
    },
    {
      "cell_type": "markdown",
      "source": [
        "# Q.8 How is encapsulation achieved in Python?\n"
      ],
      "metadata": {
        "id": "hwI7YlQsyNz0"
      }
    },
    {
      "cell_type": "markdown",
      "source": [
        "ANS -\n",
        "What is Encapsulation?\n",
        "\n",
        "Encapsulation in OOP means:\n",
        "\n",
        "Bundling data and methods that work on that data into a single unit (a class).\n",
        "\n",
        "Restricting direct access to some of the object's components.\n",
        "\n",
        "It's like hiding the internal workings and only exposing what’s necessary.\n",
        "\n",
        "✅ How Encapsulation is Achieved in Python\n",
        "Python uses naming conventions and special features to simulate access control.\n",
        "\n",
        "1. Public Members\n",
        "\n",
        " 2.No underscore.\n",
        "\n",
        "Accessible from anywhere."
      ],
      "metadata": {
        "id": "t4mBY7PS5II0"
      }
    },
    {
      "cell_type": "code",
      "source": [
        "class Car:\n",
        "    def __init__(self):\n",
        "        self.color = \"Red\"  # public\n",
        "\n",
        "c = Car()\n",
        "print(c.color)  # Red ✅\n"
      ],
      "metadata": {
        "colab": {
          "base_uri": "https://localhost:8080/"
        },
        "id": "f2VTCRdMxzG2",
        "outputId": "69a0f862-7edb-4f70-fc14-48fa3ec6547c"
      },
      "execution_count": 10,
      "outputs": [
        {
          "output_type": "stream",
          "name": "stdout",
          "text": [
            "Red\n"
          ]
        }
      ]
    },
    {
      "cell_type": "markdown",
      "source": [
        "2. Protected Members\n",
        "\n",
        "Prefix with a single underscore _.\n",
        "\n",
        "Meant for internal use, but still accessible."
      ],
      "metadata": {
        "id": "dtizCwXE5cOP"
      }
    },
    {
      "cell_type": "code",
      "source": [
        "class Car:\n",
        "    def __init__(self):\n",
        "        self._engine = \"V8\"  # protected\n",
        "\n",
        "c = Car()\n",
        "print(c._engine)  # V8 ⚠️ (can access, but should be avoided)\n"
      ],
      "metadata": {
        "colab": {
          "base_uri": "https://localhost:8080/"
        },
        "id": "63-n5Vl25XZs",
        "outputId": "0890b708-a980-4dae-ab33-00ddaa69f5ad"
      },
      "execution_count": 11,
      "outputs": [
        {
          "output_type": "stream",
          "name": "stdout",
          "text": [
            "V8\n"
          ]
        }
      ]
    },
    {
      "cell_type": "markdown",
      "source": [
        "3. Private Members\n",
        "Prefix with double underscore __.\n",
        "\n",
        "Python “name-mangles” it to prevent direct access.\n",
        "\n"
      ],
      "metadata": {
        "id": "y6ZvTJiC5oov"
      }
    },
    {
      "cell_type": "code",
      "source": [
        "class Car:\n",
        "    def __init__(self):\n",
        "        self.__speed = 120  # private\n",
        "\n",
        "    def get_speed(self):\n",
        "        return self.__speed\n",
        "\n",
        "c = Car()\n",
        "print(c.get_speed())       # 120 ✅\n",
        "# print(c.__speed)         # ❌ AttributeError\n",
        "print(c._Car__speed)       # 😬 Works, but not recommended\n",
        "\n",
        "\n"
      ],
      "metadata": {
        "colab": {
          "base_uri": "https://localhost:8080/"
        },
        "id": "ONR-17Bl5iR2",
        "outputId": "ba449761-23e6-4159-fc16-559b4a7b524b"
      },
      "execution_count": 12,
      "outputs": [
        {
          "output_type": "stream",
          "name": "stdout",
          "text": [
            "120\n",
            "120\n"
          ]
        }
      ]
    },
    {
      "cell_type": "markdown",
      "source": [
        "4. Using @property (Getters & Setters)\n",
        "Encapsulation is also about controlling how values are accessed or changed. You can use @property to do this cleanly:"
      ],
      "metadata": {
        "id": "GRBq20Ce54VN"
      }
    },
    {
      "cell_type": "code",
      "source": [
        "class Person:\n",
        "    def __init__(self, age):\n",
        "        self.__age = age\n",
        "\n",
        "    @property\n",
        "    def age(self):\n",
        "        return self.__age\n",
        "\n",
        "    @age.setter\n",
        "    def age(self, value):\n",
        "        if value >= 0:\n",
        "            self.__age = value\n",
        "        else:\n",
        "            print(\"Age can't be negative!\")\n",
        "\n",
        "p = Person(25)\n",
        "print(p.age)   # ✅ uses getter\n",
        "p.age = 30     # ✅ uses setter\n",
        "p.age = -5     # ❌ triggers validation\n"
      ],
      "metadata": {
        "colab": {
          "base_uri": "https://localhost:8080/"
        },
        "id": "NqkEvRCS5wzK",
        "outputId": "4023bfdf-fb8f-46e8-8772-b0509816c52f"
      },
      "execution_count": 13,
      "outputs": [
        {
          "output_type": "stream",
          "name": "stdout",
          "text": [
            "25\n",
            "Age can't be negative!\n"
          ]
        }
      ]
    },
    {
      "cell_type": "markdown",
      "source": [
        "# Q. 9 What is a constructor in Python ?"
      ],
      "metadata": {
        "id": "bI0GN4CD6KIR"
      }
    },
    {
      "cell_type": "markdown",
      "source": [
        "ANS-\n",
        "What is a Constructor?\n",
        "\n",
        "A constructor is a special method in Python that gets called automatically when you create a new object from a class.\n",
        "\n",
        "Its main job?\n",
        "\n",
        "Initialize the object’s attributes (i.e., set up its starting state).\n",
        "\n",
        "In Python, the constructor is the __init__() method.\n",
        "\n",
        "✅ Basic Syntax:\n"
      ],
      "metadata": {
        "id": "3-9PGYpV6pBH"
      }
    },
    {
      "cell_type": "code",
      "source": [
        "class Person:\n",
        "    def __init__(self, name, age):  # Constructor\n",
        "        self.name = name\n",
        "        self.age = age\n",
        "\n",
        "# Creating an object\n",
        "p = Person(\"Alice\", 25)\n",
        "print(p.name)  # Output: Alice\n"
      ],
      "metadata": {
        "colab": {
          "base_uri": "https://localhost:8080/"
        },
        "id": "1xr4b_VS7EQ2",
        "outputId": "1f1b46de-c361-44dc-b1e8-1e65e77831dc"
      },
      "execution_count": 14,
      "outputs": [
        {
          "output_type": "stream",
          "name": "stdout",
          "text": [
            "Alice\n"
          ]
        }
      ]
    },
    {
      "cell_type": "markdown",
      "source": [
        "Here’s what’s happening:\n",
        "\n",
        "\n",
        "__init__() is called automatically when Person(\"Alice\", 25) is run.\n",
        "\n",
        "self refers to the new object being created.\n",
        "\n",
        "name and age are passed as arguments and assigned to object attributes.\n",
        "\n",
        "📦 Why Use a Constructor?\n",
        "\n",
        "To set default or initial values.\n",
        "\n",
        "To ensure all required data is present when the object is created.\n",
        "\n",
        "To prepare resources or set up dependencies.\n",
        "\n",
        "🔁 Can you overload constructors in Python?\n",
        "\n",
        "Python doesn’t support traditional method overloading (like in Java or C++), but you can use default values or *args/**args to simulate it:"
      ],
      "metadata": {
        "id": "W1zRQAsR771z"
      }
    },
    {
      "cell_type": "code",
      "source": [
        "class Book:\n",
        "    def __init__(self, title=\"Unknown\", author=\"Unknown\"):\n",
        "        self.title = title\n",
        "        self.author = author\n",
        "\n",
        "b1 = Book(\"1984\", \"Orwell\")\n",
        "b2 = Book()\n",
        "\n",
        "print(b1.title)  # 1984\n",
        "print(b2.title)  # Unknown\n"
      ],
      "metadata": {
        "colab": {
          "base_uri": "https://localhost:8080/"
        },
        "id": "BbDFtk7F584b",
        "outputId": "c442b6c3-9ac3-4fb3-dc31-07ded2c967d9"
      },
      "execution_count": 15,
      "outputs": [
        {
          "output_type": "stream",
          "name": "stdout",
          "text": [
            "1984\n",
            "Unknown\n"
          ]
        }
      ]
    },
    {
      "cell_type": "markdown",
      "source": [
        "# Q. 10 What are class and static methods in Python ?"
      ],
      "metadata": {
        "id": "aXpaFpnF9Cp0"
      }
    },
    {
      "cell_type": "markdown",
      "source": [
        "ANS-\n",
        "In Python, class methods and static methods are two types of methods that are not quite like regular instance methods. They’re used when you don’t need to deal directly with instance-specific data. Here’s a breakdown:\n",
        "\n",
        "🔹 Class Methods\n",
        "\n",
        "Defined using the @classmethod decorator.\n",
        "\n",
        "The first parameter is cls, which refers to the class itself, not the instance.\n",
        "\n",
        "Can be used to access or modify class state that applies across all instances.\n",
        "\n",
        "Often used for factory methods—methods that return a class instance using different kinds of input than the constructor.\n",
        "\n",
        "Example:"
      ],
      "metadata": {
        "id": "erqOZwMj-gqV"
      }
    },
    {
      "cell_type": "code",
      "source": [
        "class Dog:\n",
        "    species = 'Canine'\n",
        "\n",
        "    def __init__(self, name):\n",
        "        self.name = name\n",
        "\n",
        "    @classmethod\n",
        "    def change_species(cls, new_species):\n",
        "        cls.species = new_species\n"
      ],
      "metadata": {
        "id": "u1Fh0cDr-t85"
      },
      "execution_count": 17,
      "outputs": []
    },
    {
      "cell_type": "code",
      "source": [
        "Dog.change_species('Wolf')\n"
      ],
      "metadata": {
        "id": "ZvX0jzeO8r9E"
      },
      "execution_count": 18,
      "outputs": []
    },
    {
      "cell_type": "markdown",
      "source": [
        "🔹 Static Methods\n",
        "\n",
        "Defined using the @staticmethod decorator.\n",
        "\n",
        "Does not take self or cls as the first parameter.\n",
        "\n",
        "Behaves like a plain function that just happens to be inside a class’s namespace.\n",
        "\n",
        "Used when your method doesn’t need access to instance or class variables.\n",
        "\n",
        "EXAMPLE :"
      ],
      "metadata": {
        "id": "0HDfUAgb-8qx"
      }
    },
    {
      "cell_type": "code",
      "source": [
        "class MathHelper:\n",
        "    @staticmethod\n",
        "    def add(x, y):\n",
        "        return x + y\n"
      ],
      "metadata": {
        "id": "JHM-0Rgj-2cc"
      },
      "execution_count": 19,
      "outputs": []
    },
    {
      "cell_type": "code",
      "source": [
        "MathHelper.add(3, 5)  # returns 8\n"
      ],
      "metadata": {
        "colab": {
          "base_uri": "https://localhost:8080/"
        },
        "id": "nWIFkb2c_KD3",
        "outputId": "35893e7c-10a6-4b2f-f336-bf4591efa5e7"
      },
      "execution_count": 20,
      "outputs": [
        {
          "output_type": "execute_result",
          "data": {
            "text/plain": [
              "8"
            ]
          },
          "metadata": {},
          "execution_count": 20
        }
      ]
    },
    {
      "cell_type": "markdown",
      "source": [
        "# Q. 11 What is method overloading in Python ?"
      ],
      "metadata": {
        "id": "Sj9nD2WL_YyD"
      }
    },
    {
      "cell_type": "markdown",
      "source": [
        " ANS-\n",
        "\n",
        " Method overloading is a concept from object-oriented programming where multiple methods can have the same name but different parameters. It's common in languages like Java or C++. But in Python, method overloading doesn't work quite the same way.\n",
        "\n",
        "🧩 Method Overloading in Python (Kinda, Sorta)\n",
        "Python does not support traditional method overloading directly. If you define a method multiple times with the same name, the last definition overwrites the previous ones.\n",
        "\n",
        "For example:"
      ],
      "metadata": {
        "id": "3d0MmFcN_n__"
      }
    },
    {
      "cell_type": "code",
      "source": [
        "class Example:\n",
        "    def greet(self):\n",
        "        print(\"Hello!\")\n",
        "\n",
        "    def greet(self, name):\n",
        "        print(f\"Hello, {name}!\")\n"
      ],
      "metadata": {
        "id": "TfqaUeyJ_sGS"
      },
      "execution_count": 21,
      "outputs": []
    },
    {
      "cell_type": "code",
      "source": [
        "class Example:\n",
        "    def greet(self, name=None):  # Add a default value for name\n",
        "        if name:\n",
        "            print(f\"Hello, {name}!\")\n",
        "        else:\n",
        "            print(\"Hello!\")\n",
        "\n",
        "e = Example()\n",
        "e.greet(\"Alice\")  # ✅ Works\n",
        "e.greet()         # ✅ Now works without name as well"
      ],
      "metadata": {
        "colab": {
          "base_uri": "https://localhost:8080/"
        },
        "id": "t8c8LxNO_1Vk",
        "outputId": "05eed9fc-5f44-42d2-a5ee-993a6dfbf329"
      },
      "execution_count": 23,
      "outputs": [
        {
          "output_type": "stream",
          "name": "stdout",
          "text": [
            "Hello, Alice!\n",
            "Hello!\n"
          ]
        }
      ]
    },
    {
      "cell_type": "markdown",
      "source": [
        "✅ Workaround:\n",
        "\n",
        " Default Arguments\n",
        "You can achieve similar behavior using default arguments or *args/**kwargs.\n",
        "\n",
        "Example using default arguments:"
      ],
      "metadata": {
        "id": "AbWLM4n2ALHa"
      }
    },
    {
      "cell_type": "code",
      "source": [
        "class Example:\n",
        "    def greet(self, name=None):\n",
        "        if name:\n",
        "            print(f\"Hello, {name}!\")\n",
        "        else:\n",
        "            print(\"Hello!\")\n"
      ],
      "metadata": {
        "id": "p1S9qOBkAWYu"
      },
      "execution_count": 24,
      "outputs": []
    },
    {
      "cell_type": "code",
      "source": [
        "e = Example()\n",
        "e.greet()          # Hello!\n",
        "e.greet(\"Alice\")   # Hello, Alice!\n"
      ],
      "metadata": {
        "colab": {
          "base_uri": "https://localhost:8080/"
        },
        "id": "Hbg7A5I3__Ks",
        "outputId": "d47e5286-033b-4b97-8c51-3dc8bfd612b5"
      },
      "execution_count": 25,
      "outputs": [
        {
          "output_type": "stream",
          "name": "stdout",
          "text": [
            "Hello!\n",
            "Hello, Alice!\n"
          ]
        }
      ]
    },
    {
      "cell_type": "markdown",
      "source": [
        " Another Option:\n",
        "\n",
        "  singledispatch from functools\n",
        "Python provides a way to overload functions using the @singledispatch decorator, but only for functions, not instance methods (though there’s a workaround).\n",
        "\n",
        "EXAMPLE:\n"
      ],
      "metadata": {
        "id": "N_IXv4s7Ag5p"
      }
    },
    {
      "cell_type": "code",
      "source": [
        "from functools import singledispatch\n",
        "\n",
        "@singledispatch\n",
        "def fun(arg):\n",
        "    print(\"Default:\", arg)\n",
        "\n",
        "@fun.register\n",
        "def _(arg: int):\n",
        "    print(\"Integer:\", arg)\n",
        "\n",
        "@fun.register\n",
        "def _(arg: str):\n",
        "    print(\"String:\", arg)\n",
        "\n",
        "fun(10)       # Integer: 10\n",
        "fun(\"hello\")  # String: hello\n",
        "fun(3.14)     # Default: 3.14\n",
        "\n"
      ],
      "metadata": {
        "colab": {
          "base_uri": "https://localhost:8080/"
        },
        "id": "-OpofkxIAcKQ",
        "outputId": "148b976d-88b6-422b-a8b0-d4572a82a2f6"
      },
      "execution_count": 26,
      "outputs": [
        {
          "output_type": "stream",
          "name": "stdout",
          "text": [
            "Integer: 10\n",
            "String: hello\n",
            "Default: 3.14\n"
          ]
        }
      ]
    },
    {
      "cell_type": "markdown",
      "source": [
        "#Q. 12 What is method overriding in OOP?"
      ],
      "metadata": {
        "id": "v6N6B1UAA5rz"
      }
    },
    {
      "cell_type": "markdown",
      "source": [
        "ANS-\n",
        "\n",
        "method overriding —\n",
        " a core concept in Object-Oriented Programming (OOP), and it's fully supported in Python. Let’s break it down:\n",
        "\n",
        "🔁 What is Method Overriding?\n",
        "\n",
        "Method overriding occurs when a subclass (child class) defines a method that has the same name, parameters, and behavior signature as a method in its superclass (parent class).\n",
        "\n",
        "When you call the method on an instance of the subclass, the overridden method in the subclass is executed, not the one in the parent.\n",
        "\n",
        "🧱 Why Use It?\n",
        "\n",
        "Overriding is useful when:\n",
        "\n",
        "You want to customize or extend the behavior of a method inherited from a parent class.\n",
        "\n",
        "You want to reuse parent class logic but change just part of it.\n",
        "\n",
        "🐍 Python Example:"
      ],
      "metadata": {
        "id": "r29HzFWAB2hU"
      }
    },
    {
      "cell_type": "code",
      "source": [
        "class Animal:\n",
        "    def speak(self):\n",
        "        print(\"Animal speaks\")\n",
        "\n",
        "class Dog(Animal):\n",
        "    def speak(self):  # This overrides the parent method\n",
        "        print(\"Dog barks\")\n"
      ],
      "metadata": {
        "id": "8h6euzGBChbL"
      },
      "execution_count": 27,
      "outputs": []
    },
    {
      "cell_type": "code",
      "source": [
        "a = Animal()\n",
        "a.speak()   # Output: Animal speaks\n",
        "\n",
        "d = Dog()\n",
        "d.speak()   # Output: Dog barks  ← overridden!\n"
      ],
      "metadata": {
        "colab": {
          "base_uri": "https://localhost:8080/"
        },
        "id": "FJqLKezbAygb",
        "outputId": "0833c640-882f-453d-fa3b-76d3b7115cb5"
      },
      "execution_count": 28,
      "outputs": [
        {
          "output_type": "stream",
          "name": "stdout",
          "text": [
            "Animal speaks\n",
            "Dog barks\n"
          ]
        }
      ]
    },
    {
      "cell_type": "markdown",
      "source": [
        "# Q. 13  What is a property decorator in Python ?"
      ],
      "metadata": {
        "id": "kirmVF57C37T"
      }
    },
    {
      "cell_type": "markdown",
      "source": [
        " ANS -\n",
        "\n",
        " the @property decorator in Python is a really clean and Pythonic way to use getters and setters without looking like you're using getters and setters 😄\n",
        "\n",
        "Let’s dive in:\n",
        "\n",
        "🏡 What is the @property Decorator?\n",
        "\n",
        "\n",
        "In Python, @property allows you to define a method that you can access like an attribute.\n",
        "\n",
        "So instead of this:"
      ],
      "metadata": {
        "id": "kgS0hmfQDFye"
      }
    },
    {
      "cell_type": "code",
      "source": [
        "class Person:\n",
        "    def __init__(self, age):\n",
        "        self.__age = age\n",
        "\n",
        "    def get_age(self):  # Define the get_age method\n",
        "        return self"
      ],
      "metadata": {
        "id": "GGQus64uDsjR"
      },
      "execution_count": 32,
      "outputs": []
    },
    {
      "cell_type": "code",
      "source": [
        "class Person:\n",
        "    def __init__(self, age):\n",
        "        self.__age = age\n",
        "\n",
        "    @property\n",
        "    def age(self):\n",
        "        return self.__age\n",
        "\n",
        "    @age.setter\n",
        "    def age(self, value):\n",
        "        if value >= 0:\n",
        "            self.__age = value\n",
        "        else:\n",
        "            print(\"Age can't be negative!\")\n",
        "\n",
        "# Create an instance of the Person class\n",
        "person = Person(25)\n",
        "\n",
        "# Now you can access the age property\n",
        "print(person.age)   # Output: 25"
      ],
      "metadata": {
        "colab": {
          "base_uri": "https://localhost:8080/"
        },
        "id": "-gFGmsSnDaBh",
        "outputId": "4ef4ec41-993d-4bae-f07c-08e69752153e"
      },
      "execution_count": 31,
      "outputs": [
        {
          "output_type": "stream",
          "name": "stdout",
          "text": [
            "25\n"
          ]
        }
      ]
    },
    {
      "cell_type": "markdown",
      "source": [
        "# Q.14 Why is polymorphism important in OOP ?"
      ],
      "metadata": {
        "id": "1rFv7revEGCe"
      }
    },
    {
      "cell_type": "markdown",
      "source": [
        "ANS-\n",
        "\n",
        "Polymorphism ✨\n",
        "\n",
        "\n",
        "It's one of the pillars of OOP (alongside encapsulation, inheritance, and abstraction), and it's super important because it makes your code more flexible, extensible, and maintainable.\n",
        "\n",
        "🔁 What is Polymorphism?\n",
        "\n",
        "\n",
        "Polymorphism literally means \"many forms\".\n",
        "In OOP, it means that a single interface can represent different underlying forms (data types or behaviors).\n",
        "\n",
        "In plain terms:\n",
        "\n",
        "\n",
        "You can call the same method name on different objects, and they’ll behave differently depending on the object’s class.\n",
        "\n",
        "🧠 Why Is It Important?\n",
        "\n",
        "Here’s why polymorphism rocks:\n",
        "\n",
        "\n",
        "Benefit\tWhat It Means\n",
        "\n",
        "✅ Code reusability\tYou can write general code that works with many types.\n",
        "\n",
        "✅ Extensibility\tYou can add new classes with their own behavior without changing old code.\n",
        "\n",
        "✅ Clean interfaces\tYou don’t need to know the exact class you’re working with—just that it behaves the way you expect.\n",
        "\n",
        "✅ Reduces complexity\tHelps manage big systems by relying on a consistent interface.\n",
        "\n",
        "🐍 Python Example (Classic):"
      ],
      "metadata": {
        "id": "J0v7lIwYG7aQ"
      }
    },
    {
      "cell_type": "code",
      "source": [
        "class Animal:\n",
        "    def speak(self):\n",
        "        raise NotImplementedError(\"Subclasses must implement this method\")\n",
        "\n",
        "class Dog(Animal):\n",
        "    def speak(self):\n",
        "        return \"Woof!\"\n",
        "\n",
        "class Cat(Animal):\n",
        "    def speak(self):\n",
        "        return \"Meow!\"\n",
        "\n",
        "def animal_talk(animal):\n",
        "    print(animal.speak())\n",
        "\n",
        "animal_talk(Dog())  # Woof!\n",
        "animal_talk(Cat())  # Meow!\n"
      ],
      "metadata": {
        "colab": {
          "base_uri": "https://localhost:8080/"
        },
        "id": "ml_tvWvhDgeB",
        "outputId": "fb738bd6-50ed-47eb-e5cc-1c2213b44926"
      },
      "execution_count": 33,
      "outputs": [
        {
          "output_type": "stream",
          "name": "stdout",
          "text": [
            "Woof!\n",
            "Meow!\n"
          ]
        }
      ]
    },
    {
      "cell_type": "markdown",
      "source": [
        "# Q. 15 What is an abstract class in Python ?"
      ],
      "metadata": {
        "id": "sngrDEozHfap"
      }
    },
    {
      "cell_type": "markdown",
      "source": [
        "ANS-\n",
        "abstract class in Python is a class that cannot be instantiated directly and is meant to be inherited by other classes. It can define abstract methods, which are methods that must be implemented by subclasses.\n",
        "\n",
        "Abstract classes are defined using the abc (Abstract Base Classes) module.\n",
        "\n",
        "Key Features:\n",
        "\n",
        "Use the ABC class from the abc module to create an abstract class.\n",
        "\n",
        "Use the @abstractmethod decorator to define abstract methods.\n",
        "\n",
        "Any subclass must implement all abstract methods, or it will also be considered abstract.\n",
        " EXAMPLE:"
      ],
      "metadata": {
        "id": "f5EqHEkgJePR"
      }
    },
    {
      "cell_type": "code",
      "source": [
        "from abc import ABC, abstractmethod\n",
        "\n",
        "class Animal(ABC):\n",
        "    @abstractmethod\n",
        "    def make_sound(self):\n",
        "        pass\n",
        "\n",
        "class Dog(Animal):\n",
        "    def make_sound(self):\n",
        "        return \"Woof!\"\n",
        "\n",
        "# dog = Animal()  # This will raise an error: Can't instantiate abstract class\n",
        "dog = Dog()\n",
        "print(dog.make_sound())  # Output: Woof!\n"
      ],
      "metadata": {
        "colab": {
          "base_uri": "https://localhost:8080/"
        },
        "id": "Ovm-xi0eHRyc",
        "outputId": "996608a8-6806-4222-dd63-a0bc7814e218"
      },
      "execution_count": 34,
      "outputs": [
        {
          "output_type": "stream",
          "name": "stdout",
          "text": [
            "Woof!\n"
          ]
        }
      ]
    },
    {
      "cell_type": "markdown",
      "source": [
        "Why use abstract classes?\n",
        "\n",
        "To define a common interface for a group of related classes.\n",
        "\n",
        "To enforce implementation of specific methods in child classes.\n",
        "\n",
        "To provide a blueprint for other classes.\n",
        "\n",
        "Let me know if you'd like an example involving something like shapes, vehicles, or any other real-world scenario!"
      ],
      "metadata": {
        "id": "10PhlxQ_KN71"
      }
    },
    {
      "cell_type": "markdown",
      "source": [
        "# Q.16  What are the advantages of OOP?"
      ],
      "metadata": {
        "id": "lP2p3FfPKeQq"
      }
    },
    {
      "cell_type": "markdown",
      "source": [
        "ANS-\n",
        "\n",
        "Object-Oriented Programming (OOP) offers a bunch of solid advantages that help organize and manage complex software. Here are the main advantages of OOP:\n",
        "\n",
        "✅ 1. Modularity\n",
        "Code is organized into classes, making it easier to manage and understand.\n",
        "\n",
        "Each class can be developed, tested, and debugged independently.\n",
        "\n",
        "✅ 2. Reusability\n",
        "Classes can be reused in other programs or parts of the program using inheritance.\n",
        "\n",
        "Promotes the DRY principle: Don’t Repeat Yourself.\n",
        "\n",
        "✅ 3. Encapsulation\n",
        "Internal state of objects is hidden; only necessary info is exposed via methods.\n",
        "\n",
        "Makes code more secure and reduces the risk of unintended interference.\n",
        "\n",
        "✅ 4. Inheritance\n",
        "New classes can inherit features from existing ones.\n",
        "\n",
        "Helps with code reuse and allows the creation of hierarchies.\n",
        "\n",
        "✅ 5. Polymorphism\n",
        "Different classes can define methods with the same name but different behaviors.\n",
        "\n",
        "Makes the code more flexible and extensible.\n",
        "\n",
        "✅ 6. Scalability and Maintainability\n",
        "Easier to scale and maintain because of better structure and separation of concerns.\n",
        "\n",
        "Changing a class usually doesn’t affect unrelated parts of the code.\n",
        "\n",
        "✅ 7. Real-World Modeling\n",
        "Helps model real-world entities more naturally.\n",
        "\n",
        "Objects can represent entities like users, products, vehicles, etc., with attributes and behaviors.\n",
        "\n",
        "✅ 8. Collaboration-Friendly\n",
        "Large teams can work on different classes/modules without stepping on each other’s toes.\n",
        "\n",
        "Classes serve as contracts or components others can rely on.\n",
        "\n"
      ],
      "metadata": {
        "id": "pIRT1uICKthk"
      }
    },
    {
      "cell_type": "markdown",
      "source": [
        "# Q.17 What is the difference between a class variable and an instance variable ?"
      ],
      "metadata": {
        "id": "tVexq4LCK2IW"
      }
    },
    {
      "cell_type": "markdown",
      "source": [
        "ANS-\n",
        "\n",
        "difference between class variables and instance variables:\n",
        "\n",
        "Class Variable:\n",
        "\n",
        "Declaration:\n",
        "\n",
        "Class variables are defined within the class but outside of any instance methods (including the constructor __init__). They are typically declared at the class level.\n",
        "\n",
        "Scope:\n",
        "\n",
        " Class variables belong to the class itself. There is only one copy of a class variable shared by all instances (objects) of that class.\n",
        "\n",
        "Access:\n",
        "\n",
        " You can access class variables using the class name directly (e.g., MyClass.class_var) or through an instance of the class (e.g., my_instance.class_var). However, it's generally recommended to use the class name to emphasize that it's a class-level attribute.\n",
        "\n",
        "Purpose:\n",
        "\n",
        " Class variables are often used to store information that is relevant to the entire class and all its instances, such as:\n",
        "\n",
        "Constants:\n",
        "\n",
        " Values that are the same for all objects of the class.\n",
        "Counters:\n",
        "\n",
        " Keeping track of the number of instances created.\n",
        "\n",
        "\n",
        "Default values:\n",
        "\n",
        " Providing a default value for an attribute that can be overridden by individual instances.\n",
        "\n",
        "Modification:\n",
        "\n",
        " If you modify a class variable using the class name (e.g., MyClass.class_var = new_value), the change will be reflected in all existing instances of the class and any new instances created. If you try to modify a class variable through an instance (e.g., my_instance.class_var = new_value), you are actually creating a new instance variable with the same name that shadows the class variable for that specific instance. Other instances and the class itself will remain unaffected.\n",
        "\n",
        "Instance Variable:\n",
        "\n",
        "Declaration:\n",
        "\n",
        " Instance variables are defined within the instance methods, most commonly within the constructor __init__(self, ...). They are associated with a specific instance of the class.\n",
        "\n",
        "\n",
        "Scope:\n",
        "\n",
        " Instance variables belong to the individual object (instance). Each instance of the class has its own separate copy of the instance variables.\n",
        "\n",
        "Access:\n",
        " You access instance variables using the instance (object) followed by the dot operator (e.g., my_instance.instance_var). You cannot directly access instance variables using the class name.\n",
        "\n",
        "Purpose:\n",
        "\n",
        " Instance variables store data that is unique to each object of the class. They represent the state or attributes of a particular instance.\n",
        "\n",
        "Modification:\n",
        "\n",
        " When you modify an instance variable of one object, it does not affect the instance variables of other objects of the same class. Each object maintains its own independent set of instance variable values."
      ],
      "metadata": {
        "id": "ONa-zBKDLkWa"
      }
    },
    {
      "cell_type": "markdown",
      "source": [
        "# Q. 18 What is multiple inheritance in Python ?"
      ],
      "metadata": {
        "id": "Zs9e8sd1M5D2"
      }
    },
    {
      "cell_type": "markdown",
      "source": [
        "ANS-\n",
        "\n",
        " What is Multiple Inheritance in Python?\n",
        "\n",
        "Multiple inheritance is when a class in Python inherits from more than one parent class. This means the child class can access attributes and methods of all its parent classes.\n",
        "\n",
        "INHERITANCE EXAMPLE :\n"
      ],
      "metadata": {
        "id": "3cOf1lP_NInp"
      }
    },
    {
      "cell_type": "code",
      "source": [
        "class Father:\n",
        "    def skills(self):\n",
        "        print(\"Gardening, Programming\")\n",
        "\n",
        "class Mother:\n",
        "    def hobbies(self):\n",
        "        print(\"Painting, Dancing\")\n",
        "\n",
        "class Child(Father, Mother):\n",
        "    def skills(self):\n",
        "        super().skills()\n",
        "        print(\"Gaming\")\n",
        "\n",
        "# Create object\n",
        "c = Child()\n",
        "c.skills()    # Inherits from Father and extends\n",
        "c.hobbies()   # Inherits from Mother\n"
      ],
      "metadata": {
        "colab": {
          "base_uri": "https://localhost:8080/"
        },
        "id": "-bYDG7oVNPkF",
        "outputId": "04106dc2-1c4b-4788-a03c-8f6bcfa02c42"
      },
      "execution_count": 35,
      "outputs": [
        {
          "output_type": "stream",
          "name": "stdout",
          "text": [
            "Gardening, Programming\n",
            "Gaming\n",
            "Painting, Dancing\n"
          ]
        }
      ]
    },
    {
      "cell_type": "markdown",
      "source": [
        "# Q.19 Explain the purpose of ‘’__str__’ and ‘__repr__’ ‘ methods in Python ?"
      ],
      "metadata": {
        "id": "jfDNrdCiNkSw"
      }
    },
    {
      "cell_type": "markdown",
      "source": [
        "ANS-\n",
        "\n",
        "In Python, both __str__ and __repr__ are special methods used for defining how objects are represented as strings, but they serve different purposes. Here's a breakdown of each:\n",
        "\n",
        "__str__ Method:\n",
        "\n",
        "Purpose: The __str__ method is intended to provide a user-friendly or informal string representation of an object. This string should be easy to read and useful when printing or displaying the object to the user.\n",
        "\n",
        "Usage: It is primarily used when you call print() on an object or when you use str() to convert an object into a string.\n",
        "\n",
        "Example:"
      ],
      "metadata": {
        "id": "UzFt_NT_N23z"
      }
    },
    {
      "cell_type": "code",
      "source": [
        "class Person:\n",
        "    def __init__(self, name, age):\n",
        "        self.name = name\n",
        "        self.age = age\n",
        "\n",
        "    def __str__(self):\n",
        "        return f\"{self.name}, {self.age} years old\"\n",
        "\n",
        "person = Person(\"Alice\", 30)\n",
        "print(person)  # This will use __str__()\n"
      ],
      "metadata": {
        "colab": {
          "base_uri": "https://localhost:8080/"
        },
        "id": "U1BD6yo6KFGd",
        "outputId": "8bf4b2f0-5f23-433c-abde-69c8d1c9d8be"
      },
      "execution_count": 36,
      "outputs": [
        {
          "output_type": "stream",
          "name": "stdout",
          "text": [
            "Alice, 30 years old\n"
          ]
        }
      ]
    },
    {
      "cell_type": "markdown",
      "source": [
        "__repr__ Method:\n",
        "\n",
        "Purpose:\n",
        "\n",
        " The __repr__ method is meant to provide a more formal or developer-oriented string representation of an object. The idea is that __repr__ should provide a string that, if passed to eval(), would ideally recreate the object (or at least give a detailed view of it).\n",
        "\n",
        "Usage:\n",
        "\n",
        "It is used by the built-in function repr(), and it is also called when an object is displayed in the Python interactive shell (like when you just type the object’s name).\n",
        "\n",
        "Example:"
      ],
      "metadata": {
        "id": "S7cziPfnOHq0"
      }
    },
    {
      "cell_type": "code",
      "source": [
        "class Person:\n",
        "    def __init__(self, name, age):\n",
        "        self.name = name\n",
        "        self.age = age\n",
        "\n",
        "    def __repr__(self):\n",
        "        return f\"Person('{self.name}', {self.age})\"\n",
        "\n",
        "person = Person(\"Alice\", 30)\n",
        "print(repr(person))  # This will use __repr__()\n"
      ],
      "metadata": {
        "colab": {
          "base_uri": "https://localhost:8080/"
        },
        "id": "tRrSEtZHN_Ll",
        "outputId": "9bd3e74b-42a4-46f3-dbdc-a2e15a4be170"
      },
      "execution_count": 37,
      "outputs": [
        {
          "output_type": "stream",
          "name": "stdout",
          "text": [
            "Person('Alice', 30)\n"
          ]
        }
      ]
    },
    {
      "cell_type": "markdown",
      "source": [
        "Key Differences:\n",
        "\n",
        "__str__ is meant for creating a \"pretty\" string, easy for the user to read (for display purposes).\n",
        "\n",
        "__repr__ is meant for creating a detailed string that ideally represents the object in a way that could be used to recreate the object (for debugging or development).\n",
        "\n",
        "Example of both in action:"
      ],
      "metadata": {
        "id": "V3gUgGIOOb_V"
      }
    },
    {
      "cell_type": "code",
      "source": [
        "class Person:\n",
        "    def __init__(self, name, age):\n",
        "        self.name = name\n",
        "        self.age = age\n",
        "\n",
        "    def __str__(self):\n",
        "        return f\"{self.name}, {self.age} years old\"\n",
        "\n",
        "    def __repr__(self):\n",
        "        return f\"Person('{self.name}', {self.age})\"\n",
        "\n",
        "person = Person(\"Alice\", 30)\n",
        "print(str(person))  # Uses __str__()\n",
        "print(repr(person))  # Uses __repr__()\n"
      ],
      "metadata": {
        "colab": {
          "base_uri": "https://localhost:8080/"
        },
        "id": "RRvlvEwsOSuy",
        "outputId": "39f484e2-e3a4-4b10-8197-f3cf5d7135f0"
      },
      "execution_count": 38,
      "outputs": [
        {
          "output_type": "stream",
          "name": "stdout",
          "text": [
            "Alice, 30 years old\n",
            "Person('Alice', 30)\n"
          ]
        }
      ]
    },
    {
      "cell_type": "markdown",
      "source": [
        "# Q.20 What is the significance of the ‘super()’ function in Python?"
      ],
      "metadata": {
        "id": "fHCV8kuIPUQ5"
      }
    },
    {
      "cell_type": "markdown",
      "source": [
        "ANS-\n",
        "\n",
        "super() in Python! It's a seemingly simple function with significant power, especially when dealing with inheritance and method resolution order (MRO) in object-oriented programming. Its primary significance lies in enabling cooperative multiple inheritance and promoting cleaner, more maintainable code.\n",
        "\n",
        "Here's a breakdown of its key significances:\n",
        "\n",
        "1. Calling Methods from Parent Classes:\n",
        "\n",
        "The most common use case of super() is to call a method defined in a parent class (superclass) from within a method of a child class (subclass).\n",
        "\n",
        "This is particularly useful when you want to extend the functionality of a parent class method in the child class without completely rewriting it. You can perform some actions in the child's method, then use super() to call the parent's method to handle the base functionality, and potentially add more actions afterward.\n",
        "\n"
      ],
      "metadata": {
        "id": "0IFutf2DPbSX"
      }
    },
    {
      "cell_type": "code",
      "source": [
        "class Parent:\n",
        "    def greet(self):\n",
        "        print(\"Hello from Parent\")\n",
        "\n",
        "class Child(Parent):\n",
        "    def greet(self):\n",
        "        print(\"Hello from Child\")\n",
        "        super().greet()  # Calls the greet() method of the Parent class\n",
        "        print(\"Goodbye from Child\")\n",
        "\n",
        "child_obj = Child()\n",
        "child_obj.greet()\n",
        "# Output:\n",
        "# Hello from Child\n",
        "# Hello from Parent\n",
        "# Goodbye from Child"
      ],
      "metadata": {
        "colab": {
          "base_uri": "https://localhost:8080/"
        },
        "id": "axV-pILgQHGf",
        "outputId": "2f04e8af-0ff4-4e30-ce01-e09c962366cd"
      },
      "execution_count": 39,
      "outputs": [
        {
          "output_type": "stream",
          "name": "stdout",
          "text": [
            "Hello from Child\n",
            "Hello from Parent\n",
            "Goodbye from Child\n"
          ]
        }
      ]
    },
    {
      "cell_type": "markdown",
      "source": [
        "2. Resolving the Method Resolution Order (MRO) in Multiple Inheritance:\n",
        "\n",
        "In Python, a class can inherit from multiple parent classes. This can lead to situations where multiple parent classes have methods with the same name. The MRO defines the order in which Python searches for a method in the class hierarchy.\n",
        "\n",
        "super() doesn't just blindly call the method of the immediate parent in the inheritance list. Instead, it follows the MRO to find the next class in the order that has that method.\n",
        "\n",
        "This is crucial for cooperative multiple inheritance, where multiple mixin classes (classes designed to provide specific functionalities) can be combined. Each mixin can use super() to call the next mixin or the final base class in the MRO, ensuring that all relevant methods in the hierarchy are executed in the correct order.\n",
        "\n"
      ],
      "metadata": {
        "id": "EHXDm4xqQRxE"
      }
    },
    {
      "cell_type": "code",
      "source": [
        "class Base:\n",
        "    def say_hello(self):\n",
        "        print(\"Hello from Base\")\n",
        "\n",
        "class Mixin1(Base):\n",
        "    def say_hello(self):\n",
        "        print(\"Hello from Mixin1\")\n",
        "        super().say_hello()\n",
        "\n",
        "class Mixin2(Base):\n",
        "    def say_hello(self):\n",
        "        print(\"Hello from Mixin2\")\n",
        "        super().say_hello()\n",
        "\n",
        "class MyClass(Mixin1, Mixin2):\n",
        "    def say_hello(self):\n",
        "        print(\"Hello from MyClass\")\n",
        "        super().say_hello()\n",
        "\n",
        "obj = MyClass()\n",
        "obj.say_hello()\n",
        "# Output (MRO: MyClass -> Mixin1 -> Mixin2 -> Base -> object):\n",
        "# Hello from MyClass\n",
        "# Hello from Mixin1\n",
        "# Hello from Mixin2\n",
        "# Hello from Base"
      ],
      "metadata": {
        "colab": {
          "base_uri": "https://localhost:8080/"
        },
        "id": "S1u18BvbOhzz",
        "outputId": "516a700d-b3b3-453a-b4bc-a076b13953d9"
      },
      "execution_count": 40,
      "outputs": [
        {
          "output_type": "stream",
          "name": "stdout",
          "text": [
            "Hello from MyClass\n",
            "Hello from Mixin1\n",
            "Hello from Mixin2\n",
            "Hello from Base\n"
          ]
        }
      ]
    },
    {
      "cell_type": "markdown",
      "source": [
        "3.  Ensuring Proper Initialization in Complex Inheritance Hierarchies:\n",
        "\n",
        "When dealing with multiple inheritance, it's essential to ensure that the __init__ methods of all parent classes are called correctly to initialize their respective attributes.\n",
        "\n",
        "Using super().__init__() in the __init__ method of a child class ensures that the __init__ method of the next class in the MRO is called. This avoids the common problem of a parent class's initialization being skipped.\n"
      ],
      "metadata": {
        "id": "0ErZwvIPQf-N"
      }
    },
    {
      "cell_type": "code",
      "source": [
        "class Parent1:\n",
        "    def __init__(self):\n",
        "        print(\"Parent1 initialized\")\n",
        "        self.attribute1 = \"value1\"\n",
        "\n",
        "class Parent2:\n",
        "    def __init__(self):\n",
        "        print(\"Parent2 initialized\")\n",
        "        self.attribute2 = \"value2\"\n",
        "\n",
        "class Child(Parent1, Parent2):\n",
        "    def __init__(self):\n",
        "        print(\"Child initialized\")\n",
        "        super().__init__() # Calls Parent1's __init__ (due to MRO)\n",
        "        # If we wanted to also explicitly call Parent2's __init__ without super\n",
        "        # in a non-cooperative way, it could lead to issues in complex scenarios.\n",
        "\n",
        "child_obj = Child()\n",
        "# Output:\n",
        "# Child initialized\n",
        "# Parent1 initialized\n",
        "# Parent2 initialized (implicitly called via Parent1's super in a cooperative MRO)"
      ],
      "metadata": {
        "colab": {
          "base_uri": "https://localhost:8080/"
        },
        "id": "4BBx_pjjQWXn",
        "outputId": "5d3cb9c4-9de9-4906-aa31-d04fcb815545"
      },
      "execution_count": 41,
      "outputs": [
        {
          "output_type": "stream",
          "name": "stdout",
          "text": [
            "Child initialized\n",
            "Parent1 initialized\n"
          ]
        }
      ]
    },
    {
      "cell_type": "markdown",
      "source": [
        "Key Advantages of Using super():\n",
        "\n",
        "Improved Code Readability:\n",
        "\n",
        "It clearly indicates that you are calling a method from a parent class in the context of inheritance.\n",
        "\n",
        "\n",
        "Enhanced Maintainability:\n",
        "\n",
        " Changes in the inheritance hierarchy are less likely to break your code because super() relies on the MRO, not hardcoded parent class names.\n",
        "Facilitates Cooperative Multiple Inheritance: It enables mixin classes to work together seamlessly by ensuring that all their methods in the MRO are called in the correct order.\n",
        "\n",
        "\n",
        "Avoids Explicit Parent Class Naming:\n",
        "\n",
        " You don't need to explicitly mention the parent class name, making your code more adaptable to changes in the class hierarchy.\n",
        "In summary, super() is a powerful and essential tool in Python for working with inheritance, especially multiple inheritance. It ensures proper method and attribute initialization, respects the method resolution order, and promotes cleaner, more flexible, and maintainable object-oriented code.\n",
        "\n"
      ],
      "metadata": {
        "id": "M5qYKqPnQzTN"
      }
    },
    {
      "cell_type": "markdown",
      "source": [
        "# Q. 21 What is the significance of the __del__ method in Python ?"
      ],
      "metadata": {
        "id": "kDZdlRp0RKIG"
      }
    },
    {
      "cell_type": "markdown",
      "source": [
        "ANS -\n",
        "\n",
        "Ah, the __del__ method in Python! It's a special method that gets called when an object is about to be garbage collected (destroyed). Its significance lies in providing a mechanism to perform cleanup actions or finalization before an object is removed from memory.\n",
        "\n",
        "Here's a breakdown of its significance and important considerations:\n",
        "\n",
        "Significance:\n",
        "\n",
        "Resource Cleanup: The primary purpose of __del__ is to release external resources held by an object. This can include:\n",
        "\n",
        "Closing files: Ensuring that open files are properly closed to prevent data loss or corruption.\n",
        "Releasing network connections: Terminating active network connections to free up resources.\n",
        "Unlocking resources: Releasing locks or semaphores acquired by the object.\n",
        "Releasing memory not managed by Python: If the object has allocated memory using external libraries (like C extensions), __del__ can be used to free that memory.\n",
        "Finalization Logic: In some cases, you might want to perform certain final actions or log information just before an object is destroyed. __del__ can be used for such finalization tasks.\n",
        "\n",
        "Important Considerations and Caveats:\n",
        "\n",
        "While __del__ seems like a straightforward way to handle cleanup, it comes with several important caveats and is generally not recommended for reliable resource management in most situations. Here's why:\n",
        "\n",
        "Unpredictable Timing: The exact time when __del__ is called is not guaranteed. Garbage collection in Python is automatic and depends on various factors. You cannot rely on __del__ being called immediately when an object is no longer referenced. This makes it unsuitable for critical resource management where timely release is essential.\n",
        "\n",
        "Potential for Circular References: If objects involved in a circular reference (where they refer to each other, preventing their reference count from dropping to zero) have __del__ methods, it can prevent the garbage collector from breaking the cycle and calling these methods. This can lead to memory leaks.\n",
        "\n",
        "Exceptions During __del__: If an exception occurs within the __del__ method, it is silently ignored by the Python runtime (as of Python 3.8 and earlier; later versions might log a warning). This can lead to unexpected behavior and make debugging very difficult, as cleanup actions might not be completed without any indication of an error.\n",
        "\n",
        "Object Resurrection: It's theoretically possible for an object's __del__ method to resurrect the object by creating a new reference to it. However, this is generally considered bad practice and can lead to very complex and unpredictable behavior.\n",
        "\n",
        "Interaction with Interpreter Shutdown: __del__ methods might not be called reliably during interpreter shutdown.\n",
        "\n",
        "Better Alternatives for Resource Management:\n",
        "\n",
        "Due to the unreliability of __del__, Python provides more robust and recommended mechanisms for managing resources:\n",
        "\n",
        "with statement and Context Managers: For resources that need to be acquired and released in a structured way (like files, network connections, locks), the with statement along with context managers (implemented using __enter__ and __exit__ methods) is the preferred approach. The __exit__ method of a context manager is guaranteed to be called, even if exceptions occur within the with block, ensuring proper resource cleanup."
      ],
      "metadata": {
        "id": "i9N7oMh7RtpT"
      }
    },
    {
      "cell_type": "code",
      "source": [
        "# First, create the file or make sure it exists in the same directory as your script:\n",
        "!touch my_file.txt # Creates an empty file named my_file.txt\n",
        "\n",
        "# Or, if you have data you want to put in the file:\n",
        "with open(\"my_file.txt\", \"w\") as f:\n",
        "    f.write(\"Some data for the file\")\n",
        "\n",
        "# Now, you can read the file:\n",
        "with open(\"my_file.txt\", \"r\") as f:\n",
        "    data = f.read()\n",
        "\n",
        "print(data)  # Prints the content of the file"
      ],
      "metadata": {
        "colab": {
          "base_uri": "https://localhost:8080/"
        },
        "id": "8cJw0pd5Qlq0",
        "outputId": "430f0f40-02d0-4710-e238-b741f8d66ec4"
      },
      "execution_count": 43,
      "outputs": [
        {
          "output_type": "stream",
          "name": "stdout",
          "text": [
            "Some data for the file\n"
          ]
        }
      ]
    },
    {
      "cell_type": "markdown",
      "source": [
        "Explicit close() or release() Methods: For objects that manage resources, it's often better to provide explicit methods like close(), release(), or dispose() that the user can call to explicitly release the resources when they are no longer needed.\n",
        "\n",
        "In summary, while the __del__ method in Python is intended for performing cleanup actions before an object is garbage collected, its unreliable timing and potential for issues make it generally unsuitable for critical resource management. The with statement with context managers and explicit close()/release() methods are the recommended and more reliable approaches for ensuring proper resource handling in Python.\n",
        "\n",
        "Think of __del__ as a last-ditch effort that might or might not get called. You should strive to use more deterministic and reliable methods for resource management.\n"
      ],
      "metadata": {
        "id": "UGt9enOVSQAP"
      }
    },
    {
      "cell_type": "markdown",
      "source": [
        "# Q. 21 What is the difference between @staticmethod and @classmethod in Python?"
      ],
      "metadata": {
        "id": "34gQjE4pShO7"
      }
    },
    {
      "cell_type": "markdown",
      "source": [
        "ANS -\n",
        "@staticmethod and @classmethod in Python. These are decorators used to define special types of methods within a class. The key difference lies in the first argument they receive and their relationship to the class and its instances.\n",
        "\n",
        "@staticmethod:\n",
        "\n",
        "Definition: A static method is a regular function that is defined inside a class. It doesn't have access to the instance (self) or the class itself (cls) as its first argument.\n",
        "\n",
        "\n",
        "Behavior: It behaves like a regular function but is logically associated with the class because it's defined within its namespace.\n",
        "\n",
        "\n",
        "Invocation: You can call a static method on the class itself (ClassName.static_method()) or on an instance of the class (instance.static_method()). However, since it doesn't depend on the instance's state, calling it on the class is more common and clearly indicates its nature.\n",
        "\n",
        "\n",
        "Purpose: Static methods are used for utility functions that are related to the class conceptually but don't need access to the specific data of any instance or the class itself. They can be used for tasks like:\n",
        "\n",
        "\n",
        "Creating helper functions that operate on data related to the class.\n",
        "Implementing factory methods that create instances of the class (or related classes).\n",
        "Grouping logically related functions within the class namespace for better organization.\n",
        "\n",
        "@classmethod:\n",
        "\n",
        "Definition: A class method is a method that receives the class itself as the first argument, conventionally named cls.\n",
        "\n",
        "\n",
        "Behavior:\n",
        "\n",
        " It has access to the class and can therefore modify class-level attributes or call other class methods. However, it doesn't have direct access to the specific instance's attributes (unless you create an instance within the method).\n",
        "\n",
        "\n",
        "Invocation:\n",
        "\n",
        " You can call a class method on the class itself (ClassName.class_method()) or on an instance of the class (instance.class_method()). In both cases, the class itself is passed as the first argument (cls).\n",
        "\n",
        "\n",
        "Purpose:\n",
        "\n",
        " Class methods are useful for:\n",
        "\n",
        "Factory methods: Creating instances of the class (or subclasses) in a more flexible way than the standard constructor (__init__). They can take different kinds of input and decide how to instantiate the class.\n",
        "\n",
        "Modifying class-level attributes:\n",
        "\n",
        " They can change variables that are shared across all instances of the class.\n",
        "\n",
        "Providing alternative constructors:\n",
        "\n",
        " They can offer different ways to initialize class instances based on specific input formats.\n",
        "\n",
        "Working with inheritance:\n",
        "\n",
        " When a class method is called on a subclass, the cls argument will be the subclass itself, allowing for behavior specific to the subclass."
      ],
      "metadata": {
        "id": "GerAI6DwS6kb"
      }
    },
    {
      "cell_type": "code",
      "source": [
        "class MyClass:\n",
        "    class_attribute = \"Hello\"\n",
        "\n",
        "    def __init__(self, value):\n",
        "        self.instance_attribute = value\n",
        "\n",
        "    @staticmethod\n",
        "    def static_helper(x, y):\n",
        "        return x + y\n",
        "\n",
        "    @classmethod\n",
        "    def create_from_string(cls, data_string):\n",
        "        parts = data_string.split(\"-\")\n",
        "        value = int(parts[1])\n",
        "        return cls(value)  # Creates an instance of the class (or subclass)\n",
        "\n",
        "    @classmethod\n",
        "    def get_class_attribute(cls):\n",
        "        return cls.class_attribute\n",
        "\n",
        "# Using the methods\n",
        "print(MyClass.static_helper(5, 3))  # Output: 8\n",
        "\n",
        "obj1 = MyClass.create_from_string(\"data-10\")\n",
        "print(obj1.instance_attribute)     # Output: 10\n",
        "\n",
        "print(MyClass.get_class_attribute()) # Output: Hello\n",
        "\n",
        "obj2 = MyClass(20)\n",
        "print(obj2.get_class_attribute()) # Output: Hello (class attribute is shared)"
      ],
      "metadata": {
        "colab": {
          "base_uri": "https://localhost:8080/"
        },
        "id": "N1Z7v9wNSIbM",
        "outputId": "049a7b10-bf5e-4d78-dd14-e7f2055842d6"
      },
      "execution_count": 44,
      "outputs": [
        {
          "output_type": "stream",
          "name": "stdout",
          "text": [
            "8\n",
            "10\n",
            "Hello\n",
            "Hello\n"
          ]
        }
      ]
    },
    {
      "cell_type": "markdown",
      "source": [
        "When to use which:\n",
        "\n",
        "Use @staticmethod when the method is logically related to the class but doesn't need to interact with the class itself or its instances. It's essentially a way to organize functions within the class's namespace.\n",
        "\n",
        "Use @classmethod when the method needs to work with the class itself (e.g., create instances, modify class-level data) but not necessarily with a specific instance's data. They are particularly useful for factory methods and providing alternative ways to instantiate the class.\n",
        "Understanding these decorators helps you write more organized, readable, and maintainable object-oriented code in Python"
      ],
      "metadata": {
        "id": "nfYps6g-T4BA"
      }
    },
    {
      "cell_type": "markdown",
      "source": [
        "# Q. 23  How does polymorphism work in Python with inheritance?"
      ],
      "metadata": {
        "id": "DgmXcvAQUDhS"
      }
    },
    {
      "cell_type": "code",
      "source": [
        "class Animal:\n",
        "    def speak(self):\n",
        "        print(\"Generic animal sound\")\n",
        "\n",
        "class Dog(Animal):\n",
        "    def speak(self):\n",
        "        print(\"Woof!\")\n",
        "\n",
        "class Cat(Animal):\n",
        "    def speak(self):\n",
        "        print(\"Meow!\")\n",
        "\n",
        "def animal_sound(animal):\n",
        "    animal.speak()\n",
        "\n",
        "# Create instances of the subclasses\n",
        "my_dog = Dog()\n",
        "my_cat = Cat()\n",
        "generic_animal = Animal()\n",
        "\n",
        "# Call the same method on different objects\n",
        "animal_sound(my_dog)        # Output: Woof!\n",
        "animal_sound(my_cat)        # Output: Meow!\n",
        "animal_sound(generic_animal) # Output: Generic animal sound\n",
        "\n",
        "# You can also put them in a list and iterate\n",
        "animals = [my_dog, my_cat, generic_animal]\n",
        "for animal in animals:\n",
        "    animal.speak()\n",
        "# Output:\n",
        "# Woof!\n",
        "# Meow!\n",
        "# Generic animal sound"
      ],
      "metadata": {
        "colab": {
          "base_uri": "https://localhost:8080/"
        },
        "id": "he1P-J3LU_Yk",
        "outputId": "8d392b94-e4e5-4727-928e-edc1e61b3fa4"
      },
      "execution_count": 45,
      "outputs": [
        {
          "output_type": "stream",
          "name": "stdout",
          "text": [
            "Woof!\n",
            "Meow!\n",
            "Generic animal sound\n",
            "Woof!\n",
            "Meow!\n",
            "Generic animal sound\n"
          ]
        }
      ]
    },
    {
      "cell_type": "markdown",
      "source": [
        "Explanation:\n",
        "\n",
        "We have a base class Animal with a speak() method.\n",
        "The subclasses Dog and Cat inherit from Animal and override the speak() method to provide their specific sounds.\n",
        "The function animal_sound() takes an Animal object as an argument. However, when we pass instances of Dog and Cat to this function, their respective overridden speak() methods are executed.\n",
        "Similarly, when we iterate through a list containing different Animal objects (including Dog and Cat), the correct speak() method is called for each object based on its actual type at runtime.\n",
        "Significance of Polymorphism with Inheritance in Python:\n",
        "\n",
        "Code Reusability:\n",
        "\n",
        "You can write generic code that works with objects of the base class, and it will automatically work with any of its subclasses.\n",
        "\n",
        "Flexibility and Extensibility:\n",
        "\n",
        " You can easily add new types of animals (new subclasses of Animal) without modifying the existing animal_sound() function or the loop. The new animal objects will automatically respond to the speak() method in their own way.\n",
        "Loose Coupling: Polymorphism reduces the dependencies between different parts of your code. The animal_sound() function doesn't need to know the specific type of animal it's dealing with; it only needs to know that it has a speak() method.\n",
        "\n",
        "Improved Readability and Maintainability:\n",
        "\n",
        "Polymorphic code can be more concise and easier to understand because you're dealing with a common interface (the methods defined in the base class).\n",
        "In essence, polymorphism with inheritance in Python allows you to write code that is more adaptable, reusable, and easier to maintain by treating objects of different but related classes in a uniform manner, while still allowing them to exhibit their own unique behaviors. It's a cornerstone of object-oriented design principles.\n",
        "\n"
      ],
      "metadata": {
        "id": "HEGAHwFDVMwB"
      }
    },
    {
      "cell_type": "markdown",
      "source": [
        "# Q.24  What is method chaining in Python OOP?"
      ],
      "metadata": {
        "id": "ntyWjzeQVxAV"
      }
    },
    {
      "cell_type": "markdown",
      "source": [
        "ANS-\n",
        "\n",
        "method chaining! It's a slick and often elegant technique in object-oriented Python (and other OOP languages) that allows you to call multiple methods on the same object in a sequential manner, where each method call returns the object itself. This leads to more concise and readable code, especially when performing a series of operations on an object.\n",
        "\n",
        "Think of it like a pipeline where the output of one operation becomes the input for the next, all applied to the same object.\n",
        "\n",
        "How it Works:\n",
        "\n",
        "For method chaining to work, each method in the sequence (except possibly the last one if you want a different result) must return the instance of the object (self) after performing its operation.\n",
        "\n",
        "Example:\n",
        "\n",
        "Let's say you have a simple Calculator class:"
      ],
      "metadata": {
        "id": "V4Gze2StWQ4c"
      }
    },
    {
      "cell_type": "code",
      "source": [
        "class Calculator:\n",
        "    def __init__(self, value=0):\n",
        "        self.value = value\n",
        "\n",
        "    def add(self, num):\n",
        "        self.value += num\n",
        "        return self  # Returns the Calculator object\n",
        "\n",
        "    def subtract(self, num):\n",
        "        self.value -= num\n",
        "        return self  # Returns the Calculator object\n",
        "\n",
        "    def multiply(self, num):\n",
        "        self.value *= num\n",
        "        return self  # Returns the Calculator object\n",
        "\n",
        "    def get_result(self):\n",
        "        return self.value\n",
        "\n",
        "# Using method chaining\n",
        "calculator = Calculator(10)\n",
        "result = calculator.add(5).subtract(3).multiply(2).get_result()\n",
        "print(result)  # Output: 24 ((10 + 5) - 3) * 2 = 12 * 2 = 24"
      ],
      "metadata": {
        "colab": {
          "base_uri": "https://localhost:8080/"
        },
        "id": "sRuwppbNWYgw",
        "outputId": "458ed627-c4b9-45ac-d41d-773f5127dc58"
      },
      "execution_count": 46,
      "outputs": [
        {
          "output_type": "stream",
          "name": "stdout",
          "text": [
            "24\n"
          ]
        }
      ]
    },
    {
      "cell_type": "markdown",
      "source": [
        "Explanation:\n",
        "\n",
        "We create a Calculator object initialized with a value of 10.\n",
        "We then call add(5) on the object. This method adds 5 to self.value (making it 15) and then returns self (the Calculator object).\n",
        "Immediately after, we call subtract(3) on the object that was returned by add(5). This subtracts 3 from self.value (making it 12) and returns self again.\n",
        "Next, multiply(2) is called, multiplying self.value by 2 (making it 24) and returning self.\n",
        "Finally, get_result() is called, which returns the current self.value (24).\n",
        "Benefits of Method Chaining:\n",
        "\n",
        "Improved Readability: When performing a sequence of operations on an object, method chaining can make the code flow more naturally and read more like a series of actions.\n",
        "Conciseness: It reduces the need for intermediate variables to store the result of each operation, leading to shorter code.\n",
        "Expressiveness: It can make the intent of the code clearer, especially when the operations are logically connected.\n",
        "When to Use Method Chaining:\n",
        "\n",
        "Method chaining is particularly useful when:\n",
        "\n",
        "You are performing a series of modifications or operations on a single object.\n",
        "The methods naturally lend themselves to a sequential flow.\n",
        "The object's state is being manipulated incrementally.\n",
        "Examples in Python Libraries:\n",
        "\n",
        "You'll often see method chaining used in various Python libraries, such as:\n",
        "\n",
        "Pandas: For data manipulation (e.g., .groupby().agg().sort_values()).\n",
        "SQLAlchemy: For building database queries.\n",
        "Logging: For configuring loggers.\n",
        "Custom Builder Patterns: When implementing a builder pattern to construct complex objects step by step.\n",
        "Important Considerations:\n",
        "\n",
        "Not all methods should be chained: Only methods that logically operate on the object and can meaningfully return the object itself are suitable for chaining. Methods that return a different type of value (e.g., a boolean, a string, or another object) would typically be the end of a chain.\n",
        "Potential for reduced debuggability (in some cases): If a chain of operations fails, it might be slightly harder to pinpoint exactly which step caused the issue compared to having separate statements with intermediate variables. However, good error handling and logging can mitigate this.\n",
        "In summary, method chaining in Python OOP is a powerful technique that enhances code readability and conciseness by allowing you to call multiple methods on the same object sequentially, provided that each method (except potentially the last) returns the object instance (self). It's a common and useful pattern for expressing a series of operations on an object in a fluent and expressive way."
      ],
      "metadata": {
        "id": "5qJmU1g3WqFe"
      }
    },
    {
      "cell_type": "markdown",
      "source": [
        "# Q. 25  What is the purpose of the __call__ method in Python?"
      ],
      "metadata": {
        "id": "qk6E1LD5WxRa"
      }
    },
    {
      "cell_type": "markdown",
      "source": [
        "ANS-\n",
        "\n",
        "the __call__ method in Python! It's a special method that allows you to make instances of your classes callable like regular functions. This opens up some interesting and powerful possibilities in your object-oriented designs.\n",
        "\n",
        "The Core Purpose: Making Objects Callable\n",
        "\n",
        "When you define a __call__ method within a class, any instance of that class can be invoked (called) using parentheses, just like you would call a function. The arguments you pass during the call are then passed as arguments to the __call__ method.\n",
        "\n",
        "How it Works:\n",
        "\n",
        "When you write instance() or instance(arg1, arg2, ...), Python internally translates this into a call to the __call__ method of the instance object: instance.__call__(arg1, arg2, ...).\n",
        "\n",
        "Example:"
      ],
      "metadata": {
        "id": "6hWoHC2dXGhi"
      }
    },
    {
      "cell_type": "code",
      "source": [
        "class Greeter:\n",
        "    def __init__(self, greeting):\n",
        "        self.greeting = greeting\n",
        "\n",
        "    def __call__(self, name):\n",
        "        return f\"{self.greeting}, {name}!\"\n",
        "\n",
        "# Create an instance of Greeter\n",
        "hello_greeter = Greeter(\"Hello\")\n",
        "\n",
        "# Now, hello_greeter is callable!\n",
        "message1 = hello_greeter(\"Alice\")\n",
        "message2 = hello_greeter(\"Bob\")\n",
        "\n",
        "print(message1)  # Output: Hello, Alice!\n",
        "print(message2)  # Output: Hello, Bob!"
      ],
      "metadata": {
        "colab": {
          "base_uri": "https://localhost:8080/"
        },
        "id": "lvsPl5EoXLQJ",
        "outputId": "0a32ea2c-d08b-4ca9-d87f-3d53509a8334"
      },
      "execution_count": 47,
      "outputs": [
        {
          "output_type": "stream",
          "name": "stdout",
          "text": [
            "Hello, Alice!\n",
            "Hello, Bob!\n"
          ]
        }
      ]
    },
    {
      "cell_type": "markdown",
      "source": [
        "Ah, the __call__ method in Python! It's a special method that allows you to make instances of your classes callable like regular functions. This opens up some interesting and powerful possibilities in your object-oriented designs.\n",
        "\n",
        "The Core Purpose: Making Objects Callable\n",
        "\n",
        "When you define a __call__ method within a class, any instance of that class can be invoked (called) using parentheses, just like you would call a function. The arguments you pass during the call are then passed as arguments to the __call__ method.\n",
        "\n",
        "How it Works:\n",
        "\n",
        "When you write instance() or instance(arg1, arg2, ...), Python internally translates this into a call to the __call__ method of the instance object: instance.__call__(arg1, arg2, ...).\n",
        "\n",
        "Example:\n",
        "\n",
        "Python\n",
        "\n",
        "class Greeter:\n",
        "    def __init__(self, greeting):\n",
        "        self.greeting = greeting\n",
        "\n",
        "    def __call__(self, name):\n",
        "        return f\"{self.greeting}, {name}!\"\n",
        "\n",
        "# Create an instance of Greeter\n",
        "hello_greeter = Greeter(\"Hello\")\n",
        "\n",
        "# Now, hello_greeter is callable!\n",
        "message1 = hello_greeter(\"Alice\")\n",
        "message2 = hello_greeter(\"Bob\")\n",
        "\n",
        "print(message1)  # Output: Hello, Alice!\n",
        "print(message2)  # Output: Hello, Bob!\n",
        "In this example, the Greeter class has a __call__ method. When we create hello_greeter = Greeter(\"Hello\"), hello_greeter becomes a callable object. Calling hello_greeter(\"Alice\") is equivalent to calling hello_greeter.__call__(\"Alice\"), which returns the greeting with the provided name.\n",
        "\n",
        "Significance and Use Cases:\n",
        "\n",
        "Creating Function-like Objects with State: The __call__ method allows you to create objects that behave like functions but can also maintain internal state (attributes) that persist across multiple calls. This is something regular functions cannot do directly without closures."
      ],
      "metadata": {
        "id": "BhP0hwVyXX9E"
      }
    },
    {
      "cell_type": "code",
      "source": [
        "class Counter:\n",
        "    def __init__(self, start=0):\n",
        "        self.count = start\n",
        "\n",
        "    def __call__(self):\n",
        "        self.count += 1\n",
        "        return self.count\n",
        "\n",
        "my_counter = Counter()\n",
        "print(my_counter())  # Output: 1\n",
        "print(my_counter())  # Output: 2\n",
        "print(my_counter())  # Output: 3"
      ],
      "metadata": {
        "colab": {
          "base_uri": "https://localhost:8080/"
        },
        "id": "nXGSR4WGXksi",
        "outputId": "eff962d2-254a-4278-f60e-581f61e40faf"
      },
      "execution_count": 48,
      "outputs": [
        {
          "output_type": "stream",
          "name": "stdout",
          "text": [
            "1\n",
            "2\n",
            "3\n"
          ]
        }
      ]
    },
    {
      "cell_type": "markdown",
      "source": [
        "Implementing Decorators:\n",
        " While decorators in Python are often implemented using functions (or class-based decorators with __call__), the __call__ method in a class can be used to create decorator-like behavior. The instance of the class can \"wrap\" a function and modify its behavior when called."
      ],
      "metadata": {
        "id": "Bs5Zw3cNXrUw"
      }
    },
    {
      "cell_type": "code",
      "source": [
        "class Tracer:\n",
        "    def __init__(self, func):\n",
        "        self.func = func\n",
        "\n",
        "    def __call__(self, *args, **kwargs):\n",
        "        print(f\"Calling function: {self.func.__name__} with args: {args}, kwargs: {kwargs}\")\n",
        "        result = self.func(*args, **kwargs)\n",
        "        print(f\"Function {self.func.__name__} returned: {result}\")\n",
        "        return result\n",
        "\n",
        "@Tracer\n",
        "def add(x, y):\n",
        "    return x + y\n",
        "\n",
        "sum_result = add(5, 3)\n",
        "print(sum_result)"
      ],
      "metadata": {
        "colab": {
          "base_uri": "https://localhost:8080/"
        },
        "id": "XNQ1mYJTWfrT",
        "outputId": "ed996ec9-881f-4c8e-f2c1-b30fe4606fe8"
      },
      "execution_count": 49,
      "outputs": [
        {
          "output_type": "stream",
          "name": "stdout",
          "text": [
            "Calling function: add with args: (5, 3), kwargs: {}\n",
            "Function add returned: 8\n",
            "8\n"
          ]
        }
      ]
    },
    {
      "cell_type": "markdown",
      "source": [
        "In this case, the @Tracer decorator effectively replaces the add function with an instance of Tracer that holds the original add function. When add(5, 3) is called, it's actually calling the __call__ method of the Tracer instance.\n",
        "\n",
        "Creating Callable Classes for Specific Tasks:\n",
        "\n",
        " You can design classes where the primary purpose of its instances is to be called to perform a specific operation. This can make the code more organized and expressive for certain tasks."
      ],
      "metadata": {
        "id": "U7HLmWDWX62A"
      }
    },
    {
      "cell_type": "code",
      "source": [
        "class EmailSender:\n",
        "    def __init__(self, server, port, username, password):\n",
        "        self.server = server\n",
        "        self.port = port\n",
        "        self.username = username\n",
        "        self.password = password\n",
        "        # ... (email connection setup)\n",
        "\n",
        "    def __call__(self, recipient, subject, body):\n",
        "        # ... (logic to send the email)\n",
        "        print(f\"Sending email to {recipient} with subject '{subject}'\")\n",
        "\n",
        "sender = EmailSender(\"smtp.example.com\", 587, \"user\", \"password\")\n",
        "sender(\"john.doe@example.com\", \"Important Update\", \"Please read this message.\")"
      ],
      "metadata": {
        "colab": {
          "base_uri": "https://localhost:8080/"
        },
        "id": "hJENmZzqYC4k",
        "outputId": "d9f36cef-b113-4f23-a334-b5e9d15b1c89"
      },
      "execution_count": 50,
      "outputs": [
        {
          "output_type": "stream",
          "name": "stdout",
          "text": [
            "Sending email to john.doe@example.com with subject 'Important Update'\n"
          ]
        }
      ]
    },
    {
      "cell_type": "markdown",
      "source": [
        "Integrating with Function-Expecting APIs: Some libraries or frameworks might expect callable objects (like functions). By implementing __call__ in your classes, you can pass instances of these classes to such APIs, allowing your objects to interact seamlessly.\n",
        "\n",
        "In summary, the __call__ method in Python allows you to make instances of your classes behave like functions. This provides a powerful mechanism for creating objects with state that can be invoked, implementing decorator-like behavior, and designing callable classes for specific tasks, enhancing the flexibility and expressiveness of your object-oriented code.\n",
        "\n",
        "\n",
        "Sources and related content\n"
      ],
      "metadata": {
        "id": "2dBy_RvNYKZA"
      }
    },
    {
      "cell_type": "markdown",
      "source": [
        "#**Practical Questions**"
      ],
      "metadata": {
        "id": "afaTWtwfYMNb"
      }
    },
    {
      "cell_type": "markdown",
      "source": [
        "# Q.1 Create a parent class Animal with a method speak() that prints a generic message. Create a child class Dogthat overrides the speak() method to print \"Bark!\"."
      ],
      "metadata": {
        "id": "T9CkhcwrYqV1"
      }
    },
    {
      "cell_type": "code",
      "source": [
        "class Animal:\n",
        "    def speak(self):\n",
        "        print(\"Generic animal sound\")\n",
        "\n",
        "class Dog(Animal):\n",
        "    def speak(self):\n",
        "        print(\"Bark!\")\n",
        "\n",
        "# Example usage:\n",
        "animal = Animal()\n",
        "animal.speak()  # Output: Generic animal sound\n",
        "\n",
        "dog = Dog()\n",
        "dog.speak()     # Output: Bark!"
      ],
      "metadata": {
        "colab": {
          "base_uri": "https://localhost:8080/"
        },
        "id": "B6Wd-9wSXzYv",
        "outputId": "be7c3997-4a59-48d8-9913-47e2325cdbc1"
      },
      "execution_count": 51,
      "outputs": [
        {
          "output_type": "stream",
          "name": "stdout",
          "text": [
            "Generic animal sound\n",
            "Bark!\n"
          ]
        }
      ]
    },
    {
      "cell_type": "markdown",
      "source": [
        "Explanation:\n",
        "\n",
        "Animal Class:\n",
        "\n",
        "We define a class named Animal.\n",
        "It has a method speak() that simply prints \"Generic animal sound\".\n",
        "Dog Class:\n",
        "\n",
        "We define a class named Dog that inherits from the Animal class using class Dog(Animal):.\n",
        "\n",
        " This means Dog automatically gets all the attributes and methods of Animal.\n",
        "Inside the Dog class, we define a method also named speak(). This is method overriding. The speak() method in Dog has the same name as the speak() method in its parent class Animal.\n",
        "\n",
        "\n",
        "The speak() method in Dog has its own specific implementation:\n",
        "\n",
        "it prints \"Bark!\".\n",
        "How Polymorphism Works Here:\n",
        "\n",
        "Even though both animal and dog objects have a speak() method, when you call speak() on each of them, you get different outputs based on their actual type. This is a simple demonstration of polymorphism through inheritance and method overriding. The same method name (speak()) behaves in \"many forms\" depending on the object it's called upon."
      ],
      "metadata": {
        "id": "9wMgcXBXY0Or"
      }
    },
    {
      "cell_type": "markdown",
      "source": [
        "# Q.2. Write a program to create an abstract class Shape with a method area(). Derive classes Circle and Rectangle from it and implement the area() method in both."
      ],
      "metadata": {
        "id": "mLHR2pZ9ZHKq"
      }
    },
    {
      "cell_type": "code",
      "source": [
        "from abc import ABC, abstractmethod\n",
        "import math\n",
        "\n",
        "class Shape(ABC):\n",
        "    @abstractmethod\n",
        "    def area(self):\n",
        "        pass\n",
        "\n",
        "class Circle(Shape):\n",
        "    def __init__(self, radius):\n",
        "        self.radius = radius\n",
        "\n",
        "    def area(self):\n",
        "        return math.pi * self.radius**2\n",
        "\n",
        "class Rectangle(Shape):\n",
        "    def __init__(self, length, width):\n",
        "        self.length = length\n",
        "        self.width = width\n",
        "\n",
        "    def area(self):\n",
        "        return self.length * self.width\n",
        "\n",
        "# Example usage:\n",
        "# You cannot create an instance of an abstract class directly:\n",
        "# shape = Shape()  # This will raise a TypeError\n",
        "\n",
        "circle = Circle(5)\n",
        "rectangle = Rectangle(4, 6)\n",
        "\n",
        "print(f\"Area of the circle: {circle.area():.2f}\")\n",
        "print(f\"Area of the rectangle: {rectangle.area()}\")"
      ],
      "metadata": {
        "colab": {
          "base_uri": "https://localhost:8080/"
        },
        "id": "xLVqKHO4ZNDJ",
        "outputId": "3fb8ad19-3886-4daa-f732-10b098bbb315"
      },
      "execution_count": 52,
      "outputs": [
        {
          "output_type": "stream",
          "name": "stdout",
          "text": [
            "Area of the circle: 78.54\n",
            "Area of the rectangle: 24\n"
          ]
        }
      ]
    },
    {
      "cell_type": "markdown",
      "source": [
        "Explanation:\n",
        "\n",
        "Shape Abstract Class:\n",
        "\n",
        "We import the ABC (Abstract Base Class) and abstractmethod from the abc module.\n",
        "We define Shape as a class that inherits from ABC. This makes Shape an abstract class.\n",
        "We define an abstract method area() using the @abstractmethod decorator. An abstract method has no implementation in the abstract class. This forces any concrete (non-abstract) subclass of Shape to provide its own implementation of the area() method.\n",
        "Circle Class:\n",
        "\n",
        "We define the Circle class that inherits from Shape.\n",
        "The __init__ method initializes the radius of the circle.\n",
        "We implement the area() method, calculating and returning the area of the circle using the formula πr\n",
        "2\n",
        " .\n",
        "Rectangle Class:\n",
        "\n",
        "We define the Rectangle class that also inherits from Shape.\n",
        "The __init__ method initializes the length and width of the rectangle.\n",
        "We implement the area() method, calculating and returning the area of the rectangle using the formula length×width.\n",
        "How Abstraction and Polymorphism Work Here:\n",
        "\n",
        "Abstraction: The Shape class provides an abstract interface with the area() method. It defines what a shape should be able to do (calculate its area) without specifying how it should be done. The details of area calculation are left to the concrete subclasses.\n",
        "Polymorphism: We can treat instances of Circle and Rectangle through their common base class Shape. For example, you could have a list of Shape objects (containing both circles and rectangles) and call the area() method on each. The correct area() method for the specific type of shape would be executed at runtime."
      ],
      "metadata": {
        "id": "bTgiNTMxZQpp"
      }
    },
    {
      "cell_type": "code",
      "source": [
        "shapes = [Circle(3), Rectangle(5, 2), Circle(7)]\n",
        "for shape in shapes:\n",
        "    print(f\"Area of the shape: {shape.area():.2f}\")"
      ],
      "metadata": {
        "colab": {
          "base_uri": "https://localhost:8080/"
        },
        "id": "sTnhx3U9Zcye",
        "outputId": "a9e19e2f-8f57-48c7-c20c-83a137c3b1d8"
      },
      "execution_count": 53,
      "outputs": [
        {
          "output_type": "stream",
          "name": "stdout",
          "text": [
            "Area of the shape: 28.27\n",
            "Area of the shape: 10.00\n",
            "Area of the shape: 153.94\n"
          ]
        }
      ]
    },
    {
      "cell_type": "markdown",
      "source": [
        "This loop demonstrates polymorphism. Even though the shape variable in the loop refers to different types of objects (Circle and Rectangle), calling shape.area() executes the appropriate area() method defined in each subclass."
      ],
      "metadata": {
        "id": "uOPwALvhZhvK"
      }
    },
    {
      "cell_type": "markdown",
      "source": [
        "#Q. 3. Implement a multi-level inheritance scenario where a class Vehicle has an attribute type. Derive a class Carand further derive a class ElectricCar that adds a battery attribute."
      ],
      "metadata": {
        "id": "9Uau6Zl1Z5DF"
      }
    },
    {
      "cell_type": "code",
      "source": [
        "class Vehicle:\n",
        "    def __init__(self, type):\n",
        "        self.type = type\n",
        "\n",
        "    def display_type(self):\n",
        "        print(f\"Vehicle Type: {self.type}\")\n",
        "\n",
        "class Car(Vehicle):\n",
        "    def __init__(self, model, color):\n",
        "        super().__init__(\"Car\")  # Call the __init__ of the parent class Vehicle\n",
        "        self.model = model\n",
        "        self.color = color\n",
        "\n",
        "    def display_details(self):\n",
        "        super().display_type()  # Call the display_type of the parent class Vehicle\n",
        "        print(f\"Model: {self.model}\")\n",
        "        print(f\"Color: {self.color}\")\n",
        "\n",
        "class ElectricCar(Car):\n",
        "    def __init__(self, model, color, battery_capacity):\n",
        "        super().__init__(model, color)  # Call the __init__ of the parent class Car\n",
        "        self.battery_capacity = battery_capacity\n",
        "\n",
        "    def display_details(self):\n",
        "        super().display_details()  # Call the display_details of the parent class Car\n",
        "        print(f\"Battery Capacity: {self.battery_capacity} kWh\")\n",
        "\n",
        "# Example usage:\n",
        "vehicle = Vehicle(\"Generic\")\n",
        "vehicle.display_type()\n",
        "print(\"-\" * 20)\n",
        "\n",
        "car = Car(\"Sedan\", \"Blue\")\n",
        "car.display_details()\n",
        "print(\"-\" * 20)\n",
        "\n",
        "electric_car = ElectricCar(\"Model S\", \"Red\", 100)\n",
        "electric_car.display_details()"
      ],
      "metadata": {
        "colab": {
          "base_uri": "https://localhost:8080/"
        },
        "id": "sod9v0IVZeVm",
        "outputId": "80ec9283-91a1-4374-b7a5-8917db74bc4f"
      },
      "execution_count": 54,
      "outputs": [
        {
          "output_type": "stream",
          "name": "stdout",
          "text": [
            "Vehicle Type: Generic\n",
            "--------------------\n",
            "Vehicle Type: Car\n",
            "Model: Sedan\n",
            "Color: Blue\n",
            "--------------------\n",
            "Vehicle Type: Car\n",
            "Model: Model S\n",
            "Color: Red\n",
            "Battery Capacity: 100 kWh\n"
          ]
        }
      ]
    },
    {
      "cell_type": "markdown",
      "source": [
        "Python\n",
        "\n",
        "class Vehicle:\n",
        "    def __init__(self, type):\n",
        "        self.type = type\n",
        "\n",
        "    def display_type(self):\n",
        "        print(f\"Vehicle Type: {self.type}\")\n",
        "\n",
        "class Car(Vehicle):\n",
        "    def __init__(self, model, color):\n",
        "        super().__init__(\"Car\")  # Call the __init__ of the parent class Vehicle\n",
        "        self.model = model\n",
        "        self.color = color\n",
        "\n",
        "    def display_details(self):\n",
        "        super().display_type()  # Call the display_type of the parent class Vehicle\n",
        "        print(f\"Model: {self.model}\")\n",
        "        print(f\"Color: {self.color}\")\n",
        "\n",
        "class ElectricCar(Car):\n",
        "    def __init__(self, model, color, battery_capacity):\n",
        "        super().__init__(model, color)  # Call the __init__ of the parent class Car\n",
        "        self.battery_capacity = battery_capacity\n",
        "\n",
        "    def display_details(self):\n",
        "        super().display_details()  # Call the display_details of the parent class Car\n",
        "        print(f\"Battery Capacity: {self.battery_capacity} kWh\")\n",
        "\n",
        "# Example usage:\n",
        "vehicle = Vehicle(\"Generic\")\n",
        "vehicle.display_type()\n",
        "print(\"-\" * 20)\n",
        "\n",
        "car = Car(\"Sedan\", \"Blue\")\n",
        "car.display_details()\n",
        "print(\"-\" * 20)\n",
        "\n",
        "electric_car = ElectricCar(\"Model S\", \"Red\", 100)\n",
        "electric_car.display_details()\n",
        "Explanation of Multi-Level Inheritance:\n",
        "\n",
        "Vehicle Class (Base Class):\n",
        "\n",
        "This is the top-level parent class.\n",
        "It has an __init__ method that initializes the type attribute.\n",
        "It has a display_type() method to print the vehicle's type.\n",
        "Car Class (Intermediate Derived Class):\n",
        "\n",
        "This class inherits from the Vehicle class using class Car(Vehicle):.\n",
        "Its __init__ method calls the __init__ of the Vehicle class using super().__init__(\"Car\") to initialize the type specifically as \"Car\".\n",
        "It adds its own attributes: model and color.\n",
        "It has a display_details() method that first calls the display_type() of the Vehicle class using super().display_type() and then prints the car's model and color.\n",
        "ElectricCar Class (Final Derived Class):\n",
        "\n",
        "This class inherits from the Car class using class ElectricCar(Car):. This means ElectricCar indirectly inherits from Vehicle as well.\n",
        "Its __init__ method calls the __init__ of the Car class using super().__init__(model, color) to initialize the type, model, and color.\n",
        "It adds its own attribute: battery_capacity.\n",
        "Its display_details() method first calls the display_details() of the Car class using super().display_details() (which in turn calls Vehicle's display_type()) and then prints the electric car's battery capacity.\n",
        "How Inheritance Works Here:\n",
        "\n",
        "An ElectricCar object has access to attributes and methods from all three classes: Vehicle (its grandparent), Car (its parent), and ElectricCar itself.\n",
        "When electric_car.display_details() is called, Python follows the method resolution order (MRO) to find the appropriate method in the hierarchy, ensuring that the details from all levels are displayed. The use of super() ensures that the methods of the parent classes are called in the correct order, facilitating proper initialization and behavior at each level of inheritance."
      ],
      "metadata": {
        "id": "i2VOn6a1aLYl"
      }
    },
    {
      "cell_type": "markdown",
      "source": [
        "# Q.4. Demonstrate polymorphism by creating a base class Bird with a method fly(). Create two derived classes Sparrow and Penguin that override the fly() method.\n"
      ],
      "metadata": {
        "id": "Jc5FSAbNux-B"
      }
    },
    {
      "cell_type": "code",
      "source": [
        "class Bird:\n",
        "    def fly(self):\n",
        "        print(\"Generic bird flying.\")\n",
        "\n",
        "class Sparrow(Bird):\n",
        "    def fly(self):\n",
        "        print(\"Sparrow is fluttering its wings and flying.\")\n",
        "\n",
        "class Penguin(Bird):\n",
        "    def fly(self):\n",
        "        print(\"Penguins can't fly, but they can swim very well!\")\n",
        "\n",
        "# Function that demonstrates polymorphism\n",
        "def bird_action(bird):\n",
        "    bird.fly()\n",
        "\n",
        "# Create instances of the derived classes\n",
        "sparrow = Sparrow()\n",
        "penguin = Penguin()\n",
        "generic_bird = Bird()\n",
        "\n",
        "# Demonstrate polymorphism by calling the same method on different objects\n",
        "print(\"Action with a generic Bird:\")\n",
        "bird_action(generic_bird)\n",
        "print(\"-\" * 20)\n",
        "\n",
        "print(\"Action with a Sparrow:\")\n",
        "bird_action(sparrow)\n",
        "print(\"-\" * 20)\n",
        "\n",
        "print(\"Action with a Penguin:\")\n",
        "bird_action(penguin)\n",
        "print(\"-\" * 20)\n",
        "\n",
        "# Another way to see polymorphism in action\n",
        "birds = [sparrow, penguin, generic_bird]\n",
        "print(\"Actions with a list of Birds:\")\n",
        "for bird in birds:\n",
        "    bird_action(bird)"
      ],
      "metadata": {
        "colab": {
          "base_uri": "https://localhost:8080/"
        },
        "id": "RnDz5F3qaD5I",
        "outputId": "42e67bfc-4269-4234-cd73-5c1dcf715d95"
      },
      "execution_count": 1,
      "outputs": [
        {
          "output_type": "stream",
          "name": "stdout",
          "text": [
            "Action with a generic Bird:\n",
            "Generic bird flying.\n",
            "--------------------\n",
            "Action with a Sparrow:\n",
            "Sparrow is fluttering its wings and flying.\n",
            "--------------------\n",
            "Action with a Penguin:\n",
            "Penguins can't fly, but they can swim very well!\n",
            "--------------------\n",
            "Actions with a list of Birds:\n",
            "Sparrow is fluttering its wings and flying.\n",
            "Penguins can't fly, but they can swim very well!\n",
            "Generic bird flying.\n"
          ]
        }
      ]
    },
    {
      "cell_type": "markdown",
      "source": [
        "Explanation:\n",
        "\n",
        "Bird Class (Base Class):\n",
        "\n",
        "We define a class Bird with a method fly().\n",
        "The fly() method in the base class provides a generic message about flying.\n",
        "Sparrow Class (Derived Class):\n",
        "\n",
        "The Sparrow class inherits from the Bird class.\n",
        "It overrides the fly() method to provide a specific behavior for sparrows: \"Sparrow is fluttering its wings and flying.\"\n",
        "Penguin Class (Derived Class):\n",
        "\n",
        "The Penguin class also inherits from the Bird class.\n",
        "It overrides the fly() method to reflect the fact that penguins cannot fly but are excellent swimmers: \"Penguins can't fly, but they can swim very well!\"\n",
        "bird_action() Function:\n",
        "\n",
        "This function takes an object of type Bird as an argument.\n",
        "It then calls the fly() method on the passed bird object.\n",
        "Polymorphism in Action: The beauty here is that the bird_action() function doesn't need to know the specific type of bird it's dealing with. It simply calls the fly() method. Python's runtime polymorphism ensures that the correct fly() method (the one defined in the actual object's class) is executed.\n",
        "\n",
        "Demonstration:\n",
        "\n",
        "We create instances of Sparrow, Penguin, and Bird.\n",
        "\n",
        "When we pass each of these objects to the bird_action() function, the appropriate fly() method is called based on the object's actual type. The sparrow flies, the penguin mentions its swimming ability instead of flying, and the generic bird gives a generic flying message.\n",
        "\n",
        "The list of birds further illustrates this. The same bird_action() call within the loop results in different behaviors depending on whether the current bird is a Sparrow, a Penguin, or a Bird.\n",
        "\n",
        "This example clearly demonstrates how polymorphism allows you to write code that can work with objects of different classes in a uniform way, as long as they share a common interface (in this case, the fly() method). The actual behavior of the method call is determined by the object's specific type at runtime."
      ],
      "metadata": {
        "id": "U-69wjkGxJvL"
      }
    },
    {
      "cell_type": "markdown",
      "source": [
        "# Q.5. Write a program to demonstrate encapsulation by creating a class BankAccount with private attributes balance and methods to deposit, withdraw, and check balance."
      ],
      "metadata": {
        "id": "awQkmlRbxcwP"
      }
    },
    {
      "cell_type": "code",
      "source": [
        "class BankAccount:\n",
        "    def __init__(self, account_number, initial_balance=0):\n",
        "        self.__account_number = account_number  # Private attribute (name mangling)\n",
        "        self.__balance = initial_balance      # Private attribute (name mangling)\n",
        "\n",
        "    def deposit(self, amount):\n",
        "        if amount > 0:\n",
        "            self.__balance += amount\n",
        "            print(f\"Deposited ₹{amount}. New balance: ₹{self.__balance}\")\n",
        "        else:\n",
        "            print(\"Invalid deposit amount.\")\n",
        "\n",
        "    def withdraw(self, amount):\n",
        "        if amount > 0 and amount <= self.__balance:\n",
        "            self.__balance -= amount\n",
        "            print(f\"Withdrew ₹{amount}. New balance: ₹{self.__balance}\")\n",
        "        elif amount <= 0:\n",
        "            print(\"Invalid withdrawal amount.\")\n",
        "        else:\n",
        "            print(\"Insufficient balance.\")\n",
        "\n",
        "    def check_balance(self):\n",
        "        return self.__balance\n",
        "\n",
        "    def get_account_number(self):\n",
        "        return self.__account_number\n",
        "\n",
        "# Example usage:\n",
        "account = BankAccount(\"1234567890\", 1000)\n",
        "\n",
        "# Accessing public methods to interact with the account\n",
        "account.deposit(500)\n",
        "account.withdraw(200)\n",
        "print(f\"Current balance: ₹{account.check_balance()}\")\n",
        "print(f\"Account Number: {account.get_account_number()}\")\n",
        "\n",
        "# Attempting to access private attributes directly (generally discouraged)\n",
        "# print(account.__balance)  # This will raise an AttributeError\n",
        "\n",
        "# Python's name mangling still allows \"access\" in a specific way, but it's not the intended use\n",
        "# print(account._BankAccount__balance)"
      ],
      "metadata": {
        "colab": {
          "base_uri": "https://localhost:8080/"
        },
        "id": "8BoRQ18Iw8ER",
        "outputId": "e908782c-89d2-46a0-c5ef-e2847358a77a"
      },
      "execution_count": 2,
      "outputs": [
        {
          "output_type": "stream",
          "name": "stdout",
          "text": [
            "Deposited ₹500. New balance: ₹1500\n",
            "Withdrew ₹200. New balance: ₹1300\n",
            "Current balance: ₹1300\n",
            "Account Number: 1234567890\n"
          ]
        }
      ]
    },
    {
      "cell_type": "markdown",
      "source": [
        "Explanation of Encapsulation:\n",
        "\n",
        "Private Attributes (__balance, __account_number):\n",
        "\n",
        "We use name mangling in Python by prefixing the attribute names with double underscores (__). This makes these attributes \"private\" in the sense that they are harder to access directly from outside the class.\n",
        "\n",
        "Python renames these attributes internally to something like _BankAccount__balance. While it doesn't strictly prevent external access, it signals that these attributes are intended for internal use within the BankAccount class and should not be modified directly from outside.\n",
        "Public Methods (deposit, withdraw, check_balance, get_account_number):\n",
        "\n",
        "We provide public methods (deposit, withdraw, check_balance, get_account_number) to interact with the bank account's data (__balance and __account_number).\n",
        "deposit(self, amount): This method allows depositing a positive amount into the account, updating the __balance. It includes a check for invalid deposit amounts.\n",
        "withdraw(self, amount): This method allows withdrawing a positive amount from the account, provided there is sufficient balance. It updates the __balance and includes checks for invalid withdrawal amounts and insufficient balance.\n",
        "check_balance(self): This method returns the current __balance of the account.\n",
        "get_account_number(self): This method returns the account number. While the account number is generally considered identifying information, providing a controlled way to access it can be useful.\n",
        "How Encapsulation is Demonstrated:\n",
        "\n",
        "Data Hiding:\n",
        "\n",
        "The __balance attribute is hidden from direct external access. If you try to access account.__balance, you will get an AttributeError. This prevents accidental or unauthorized modification of the account's balance from outside the class.\n",
        "\n",
        "Controlled Access:\n",
        "\n",
        " The public methods (deposit, withdraw) provide controlled ways to modify the __balance. These methods include logic (like checking for valid amounts and sufficient balance) to ensure the integrity of the data.\n",
        "\n",
        "Abstraction (Related Concept):\n",
        "\n",
        " While the primary focus here is encapsulation, the public methods also provide an abstract interface to interact with the bank account. Users don't need to know how the balance is stored internally; they only need to use the provided methods.\n",
        "\n",
        "By using encapsulation, we protect the internal state (__balance) of the BankAccount object and ensure that any modifications to it happen through well-defined and controlled methods, maintaining the integrity and consistency of the account data."
      ],
      "metadata": {
        "id": "lNdqmtpdx25c"
      }
    },
    {
      "cell_type": "markdown",
      "source": [
        "#Q.6. Demonstrate runtime polymorphism using a method play() in a base class Instrument. Derive classes Guitar and Piano that implement their own version of play()."
      ],
      "metadata": {
        "id": "f603qfhvyWU6"
      }
    },
    {
      "cell_type": "code",
      "source": [
        "class Instrument:\n",
        "    def play(self):\n",
        "        print(\"Generic instrument sound.\")\n",
        "\n",
        "class Guitar(Instrument):\n",
        "    def play(self):\n",
        "        print(\"Strumming the guitar strings: Ting-a-ling!\")\n",
        "\n",
        "class Piano(Instrument):\n",
        "    def play(self):\n",
        "        print(\"Playing the piano keys: Plink-plonk!\")\n",
        "\n",
        "# Function that demonstrates runtime polymorphism\n",
        "def tune_instrument(instrument):\n",
        "    print(\"Tuning the instrument...\")\n",
        "    instrument.play()\n",
        "    print(\"Tuning complete.\")\n",
        "\n",
        "# Create instances of the derived classes\n",
        "guitar = Guitar()\n",
        "piano = Piano()\n",
        "generic_instrument = Instrument()\n",
        "\n",
        "# Demonstrate runtime polymorphism by calling the same method on different objects\n",
        "print(\"Tuning a generic Instrument:\")\n",
        "tune_instrument(generic_instrument)\n",
        "print(\"-\" * 20)\n",
        "\n",
        "print(\"Tuning a Guitar:\")\n",
        "tune_instrument(guitar)\n",
        "print(\"-\" * 20)\n",
        "\n",
        "print(\"Tuning a Piano:\")\n",
        "tune_instrument(piano)\n",
        "print(\"-\" * 20)\n",
        "\n",
        "# Another way to see runtime polymorphism in action\n",
        "instruments = [guitar, piano, generic_instrument]\n",
        "print(\"Tuning a collection of Instruments:\")\n",
        "for instrument in instruments:\n",
        "    tune_instrument(instrument)"
      ],
      "metadata": {
        "colab": {
          "base_uri": "https://localhost:8080/"
        },
        "id": "TngeUdPdxtcd",
        "outputId": "636f4a03-19c2-4f9a-e47c-624c311b72b3"
      },
      "execution_count": 3,
      "outputs": [
        {
          "output_type": "stream",
          "name": "stdout",
          "text": [
            "Tuning a generic Instrument:\n",
            "Tuning the instrument...\n",
            "Generic instrument sound.\n",
            "Tuning complete.\n",
            "--------------------\n",
            "Tuning a Guitar:\n",
            "Tuning the instrument...\n",
            "Strumming the guitar strings: Ting-a-ling!\n",
            "Tuning complete.\n",
            "--------------------\n",
            "Tuning a Piano:\n",
            "Tuning the instrument...\n",
            "Playing the piano keys: Plink-plonk!\n",
            "Tuning complete.\n",
            "--------------------\n",
            "Tuning a collection of Instruments:\n",
            "Tuning the instrument...\n",
            "Strumming the guitar strings: Ting-a-ling!\n",
            "Tuning complete.\n",
            "Tuning the instrument...\n",
            "Playing the piano keys: Plink-plonk!\n",
            "Tuning complete.\n",
            "Tuning the instrument...\n",
            "Generic instrument sound.\n",
            "Tuning complete.\n"
          ]
        }
      ]
    },
    {
      "cell_type": "markdown",
      "source": [
        "Explanation of Runtime Polymorphism:\n",
        "\n",
        "Instrument Class (Base Class):\n",
        "\n",
        "We define a class Instrument with a method play().\n",
        "The play() method in the base class provides a generic sound.\n",
        "\n",
        "Guitar Class (Derived Class):\n",
        "\n",
        "The Guitar class inherits from the Instrument class.\n",
        "It overrides the play() method to provide the specific sound of a guitar: \"Strumming the guitar strings: Ting-a-ling!\"\n",
        "\n",
        "Piano Class (Derived Class):\n",
        "\n",
        "The Piano class also inherits from the Instrument class.\n",
        "It overrides the play() method to represent the sound of a piano: \"Playing the piano keys: Plink-plonk!\"\n",
        "\n",
        "tune_instrument() Function:\n",
        "\n",
        "This function takes an object of type Instrument as an argument.\n",
        "It calls the play() method on the passed instrument object.\n",
        "\n",
        "Runtime Polymorphism in Action:\n",
        " The crucial aspect here is that the tune_instrument() function doesn't know the specific type of Instrument it's dealing with at the time the code is written (compile time). The decision of which play() method to execute is made at runtime based on the actual type of the instrument object passed to the function.\n",
        "\n",
        "Demonstration:\n",
        "\n",
        "We create instances of Guitar, Piano, and Instrument.\n",
        "\n",
        "When we pass each of these objects to the tune_instrument() function, the appropriate play() method for that specific type of instrument is executed. The guitar \"strums,\" the piano \"plinks,\" and the generic instrument makes a generic sound.\n",
        "\n",
        "The list of instruments further illustrates this. The same tune_instrument() call within the loop results in different play() behaviors depending on whether the current instrument is a Guitar, a Piano, or a GenericInstrument.\n",
        "\n",
        "This example effectively demonstrates runtime polymorphism. The same method name (play()) invoked on different objects (that share a common base class) produces different behaviors based on the object's specific class at the time of execution. This dynamic selection of the method to call is the essence of runtime polymorphism."
      ],
      "metadata": {
        "id": "eDewG8q_yxK4"
      }
    },
    {
      "cell_type": "markdown",
      "source": [
        "# Q.7. Create a class MathOperations with a class method add_numbers() to add two numbers and a static method subtract_numbers() to subtract two numbers."
      ],
      "metadata": {
        "id": "zi38C25SzNm7"
      }
    },
    {
      "cell_type": "code",
      "source": [
        "class MathOperations:\n",
        "    @classmethod\n",
        "    def add_numbers(cls, num1, num2):\n",
        "        \"\"\"Class method to add two numbers.\"\"\"\n",
        "        return num1 + num2\n",
        "\n",
        "    @staticmethod\n",
        "    def subtract_numbers(num1, num2):\n",
        "        \"\"\"Static method to subtract two numbers.\"\"\"\n",
        "        return num1 - num2\n",
        "\n",
        "# Example usage:\n",
        "\n",
        "# Calling the class method using the class name\n",
        "sum_result = MathOperations.add_numbers(10, 5)\n",
        "print(f\"Sum: {sum_result}\")\n",
        "\n",
        "# Calling the class method using an instance (less common but possible)\n",
        "math_ops = MathOperations()\n",
        "sum_result_instance = math_ops.add_numbers(7, 3)\n",
        "print(f\"Sum (via instance): {sum_result_instance}\")\n",
        "\n",
        "# Calling the static method using the class name\n",
        "difference = MathOperations.subtract_numbers(20, 8)\n",
        "print(f\"Difference: {difference}\")\n",
        "\n",
        "# Calling the static method using an instance (also possible)\n",
        "difference_instance = math_ops.subtract_numbers(15, 6)\n",
        "print(f\"Difference (via instance): {difference_instance}\")"
      ],
      "metadata": {
        "colab": {
          "base_uri": "https://localhost:8080/"
        },
        "id": "UARuIj-TzWyb",
        "outputId": "1b1f0689-2c59-415b-ae1b-fb91b6643109"
      },
      "execution_count": 4,
      "outputs": [
        {
          "output_type": "stream",
          "name": "stdout",
          "text": [
            "Sum: 15\n",
            "Sum (via instance): 10\n",
            "Difference: 12\n",
            "Difference (via instance): 9\n"
          ]
        }
      ]
    },
    {
      "cell_type": "markdown",
      "source": [
        "Explanation:\n",
        "\n",
        "MathOperations Class:\n",
        "\n",
        "We define a class named MathOperations to encapsulate our mathematical operations.\n",
        "@classmethod add_numbers(cls, num1, num2):\n",
        "\n",
        "The @classmethod decorator indicates that this is a class method.\n",
        "\n",
        "The first parameter, conventionally named cls, automatically refers to the class itself (MathOperations in this case).\n",
        "\n",
        "This method takes two numbers (num1, num2) as arguments and returns their sum.\n",
        "Class methods have access to the class and can modify class-level attributes or call other class methods. However, in this example, we are simply using it as a utility function that is logically associated with the class.\n",
        "\n",
        "@staticmethod subtract_numbers(num1, num2):\n",
        "\n",
        "The @staticmethod decorator indicates that this is a static method.\n",
        "Static methods do not receive the instance (self) or the class (cls) as their first argument. They are essentially regular functions that are defined within the class's namespace.\n",
        "This method takes two numbers (num1, num2) as arguments and returns their difference.\n",
        "Static methods are used for utility functions that are related to the class conceptually but don't need to access or modify the state of the class or its instances.\n",
        "\n",
        "Key Differences Demonstrated:\n",
        "\n",
        "Access to Class:\n",
        "The add_numbers class method has cls as its first argument, allowing it to potentially interact with the class itself. The subtract_numbers static method has no such access.\n",
        "\n",
        "Invocation:\n",
        " Both methods can be called directly on the class (MathOperations.add_numbers(), MathOperations.subtract_numbers()) or through an instance of the class (math_ops.add_numbers(), math_ops.subtract_numbers()). However, calling them on the class is the more idiomatic way to use static and class methods as they don't inherently depend on a specific instance.\n",
        "\n",
        "Purpose:\n",
        "add_numbers is a class-level operation (even though it doesn't modify class state here), while subtract_numbers is a utility function grouped within the class for logical organization.\n",
        "\n",
        "\n",
        "\n",
        "\n",
        "\n"
      ],
      "metadata": {
        "id": "m3rhOi66zVy3"
      }
    },
    {
      "cell_type": "markdown",
      "source": [
        "# Q. 8. Implement a class Person with a class method to count the total number of persons created."
      ],
      "metadata": {
        "id": "2VupYF5Wz41g"
      }
    },
    {
      "cell_type": "code",
      "source": [
        "class Person:\n",
        "    count = 0  # Class variable to keep track of the number of persons\n",
        "\n",
        "    def __init__(self, name):\n",
        "        self.name = name\n",
        "        Person.count += 1  # Increment the count whenever a new Person is created\n",
        "\n",
        "    @classmethod\n",
        "    def get_total_persons(cls):\n",
        "        \"\"\"Class method to get the total number of persons created.\"\"\"\n",
        "        return cls.count\n",
        "\n",
        "# Example usage:\n",
        "print(f\"Initial number of persons: {Person.get_total_persons()}\")\n",
        "\n",
        "person1 = Person(\"Alice\")\n",
        "print(f\"Number of persons after creating Alice: {Person.get_total_persons()}\")\n",
        "\n",
        "person2 = Person(\"Bob\")\n",
        "person3 = Person(\"Charlie\")\n",
        "print(f\"Number of persons after creating Bob and Charlie: {Person.get_total_persons()}\")"
      ],
      "metadata": {
        "colab": {
          "base_uri": "https://localhost:8080/"
        },
        "id": "BqLGwSZVynGy",
        "outputId": "db8f3c8b-0879-4261-ed33-8f6b37e357f4"
      },
      "execution_count": 5,
      "outputs": [
        {
          "output_type": "stream",
          "name": "stdout",
          "text": [
            "Initial number of persons: 0\n",
            "Number of persons after creating Alice: 1\n",
            "Number of persons after creating Bob and Charlie: 3\n"
          ]
        }
      ]
    },
    {
      "cell_type": "markdown",
      "source": [
        "Explanation:\n",
        "\n",
        "Person Class:\n",
        "\n",
        "We define a class named Person.\n",
        "count = 0 (Class Variable): We initialize a class variable named count to 0. This variable belongs to the Person class itself and is shared by all instances of the class.\n",
        "__init__(self, name) (Constructor):\n",
        "\n",
        "The constructor is called whenever a new Person object is created.\n",
        "It initializes the name instance variable for the specific person.\n",
        "\n",
        "Person.count += 1: Crucially, within the constructor, we increment the Person.count class variable. This ensures that every time a new Person object is instantiated, the counter is updated.\n",
        "@classmethod get_total_persons(cls) (Class Method):\n",
        "\n",
        "The @classmethod decorator indicates that this is a class method.\n",
        "The first parameter, conventionally named cls, automatically refers to the class itself (Person in this case).\n",
        "\n",
        "return cls.count:\n",
        "\n",
        "The method returns the value of the count class variable. Since cls refers to the class, cls.count is equivalent to Person.count.\n",
        "\n",
        "Class methods have access to the class and its attributes (like count), making them suitable for operations that relate to the class as a whole, rather than a specific instance.\n",
        "\n",
        "How it Counts:\n",
        "\n",
        "Every time a new Person object is created (e.g., Person(\"Alice\")), the __init__ method is executed, and the Person.count class variable is incremented. The get_total_persons() class method provides a way to access this shared count from the class itself (without needing an instance).\n",
        "\n",
        "\n",
        "\n",
        "\n",
        "\n",
        "\n"
      ],
      "metadata": {
        "id": "4l1b5Rwi0JLr"
      }
    },
    {
      "cell_type": "markdown",
      "source": [
        "# Q. 9. Write a class Fraction with attributes numerator and denominator. Override the str method to display the fraction as \"numerator/denominator\"."
      ],
      "metadata": {
        "id": "Es-8wPCp0Ztw"
      }
    },
    {
      "cell_type": "code",
      "source": [
        "class Fraction:\n",
        "    def __init__(self, numerator, denominator):\n",
        "        if denominator == 0:\n",
        "            raise ValueError(\"Denominator cannot be zero.\")\n",
        "        self.numerator = numerator\n",
        "        self.denominator = denominator\n",
        "\n",
        "    def __str__(self):\n",
        "        \"\"\"Overrides the string representation of the Fraction object.\"\"\"\n",
        "        return f\"{self.numerator}/{self.denominator}\"\n",
        "\n",
        "# Example usage:\n",
        "fraction1 = Fraction(3, 4)\n",
        "print(fraction1)  # Output: 3/4\n",
        "\n",
        "fraction2 = Fraction(5, 2)\n",
        "print(fraction2)  # Output: 5/2\n",
        "\n",
        "# You can also use the str() function explicitly\n",
        "print(str(fraction1))  # Output: 3/4\n",
        "\n",
        "# Fractions can be part of other strings\n",
        "message = f\"The fraction is: {fraction2}\"\n",
        "print(message)  # Output: The fraction is: 5/2\n",
        "\n",
        "# Creating a fraction with a zero denominator will raise an error\n",
        "# fraction_error = Fraction(1, 0) # This line will cause a ValueError"
      ],
      "metadata": {
        "colab": {
          "base_uri": "https://localhost:8080/"
        },
        "id": "NotX3vNk0DLe",
        "outputId": "bf59c832-d7e1-48ab-de55-20961130ac91"
      },
      "execution_count": 6,
      "outputs": [
        {
          "output_type": "stream",
          "name": "stdout",
          "text": [
            "3/4\n",
            "5/2\n",
            "3/4\n",
            "The fraction is: 5/2\n"
          ]
        }
      ]
    },
    {
      "cell_type": "markdown",
      "source": [
        "Explanation:\n",
        "\n",
        "Fraction Class:\n",
        "\n",
        "We define a class named Fraction to represent fractional numbers.\n",
        "\n",
        "__init__(self, numerator, denominator) (Constructor):\n",
        "The constructor initializes the numerator and denominator attributes of the Fraction object.\n",
        "It includes a check to ensure that the denominator is not zero, raising a ValueError if it is.\n",
        "\n",
        "__str__(self) (Method Overriding):\n",
        "\n",
        "The __str__ method is a special method in Python that is automatically called when you try to get the string representation of an object.\n",
        "This happens in several contexts:\n",
        "\n",
        "When you use the print() function on the object.\n",
        "When you use the str() function on the object.\n",
        "\n",
        "When the object is part of an f-string or string concatenation.\n",
        "By overriding the default __str__ method, we define how a Fraction object should be represented as a string.\n",
        "\n",
        "Our overridden __str__ method returns a formatted string in the form \"numerator/denominator\" using an f-string.\n",
        "\n",
        "How it Works:\n",
        "\n",
        "When you use print(fraction1), Python internally calls fraction1.__str__(). Our implementation of __str__ returns the string \"3/4\", which is then printed to the console. Similarly, when str(fraction2) is called, it invokes fraction2.__str__(), returning \"5/2\". This allows us to have a clear and user-friendly string representation for our Fraction objects."
      ],
      "metadata": {
        "id": "1J5wAlLG0y7h"
      }
    },
    {
      "cell_type": "markdown",
      "source": [
        "# Q. 10. Demonstrate operator overloading by creating a class Vector and overriding the add method to add two vectors."
      ],
      "metadata": {
        "id": "-o39AMoT1Jgn"
      }
    },
    {
      "cell_type": "code",
      "source": [
        "class Vector:\n",
        "    def __init__(self, x, y):\n",
        "        self.x = x\n",
        "        self.y = y\n",
        "\n",
        "    def __str__(self):\n",
        "        return f\"Vector({self.x}, {self.y})\"\n",
        "\n",
        "    def __add__(self, other):\n",
        "        \"\"\"Overrides the addition operator (+) for Vector objects.\"\"\"\n",
        "        if isinstance(other, Vector):\n",
        "            return Vector(self.x + other.x, self.y + other.y)\n",
        "        else:\n",
        "            raise TypeError(\"Can only add Vector objects.\")\n",
        "\n",
        "# Example usage:\n",
        "v1 = Vector(2, 3)\n",
        "v2 = Vector(4, 1)\n",
        "\n",
        "print(f\"Vector 1: {v1}\")\n",
        "print(f\"Vector 2: {v2}\")\n",
        "\n",
        "# Using the overloaded addition operator (+)\n",
        "v3 = v1 + v2\n",
        "print(f\"Vector 1 + Vector 2: {v3}\")\n",
        "\n",
        "# This is equivalent to calling the __add__ method directly\n",
        "v4 = v1.__add__(v2)\n",
        "print(f\"Vector 1.__add__(Vector 2): {v4}\")\n",
        "\n",
        "# Attempting to add a Vector to a non-Vector object will raise a TypeError\n",
        "# result = v1 + 5 # This line will cause a TypeError"
      ],
      "metadata": {
        "colab": {
          "base_uri": "https://localhost:8080/"
        },
        "id": "-aRg_Whk0r4P",
        "outputId": "3d3b0067-4dfe-4305-ec49-858662d7b24d"
      },
      "execution_count": 7,
      "outputs": [
        {
          "output_type": "stream",
          "name": "stdout",
          "text": [
            "Vector 1: Vector(2, 3)\n",
            "Vector 2: Vector(4, 1)\n",
            "Vector 1 + Vector 2: Vector(6, 4)\n",
            "Vector 1.__add__(Vector 2): Vector(6, 4)\n"
          ]
        }
      ]
    },
    {
      "cell_type": "markdown",
      "source": [
        "Explanation of Operator Overloading:\n",
        "\n",
        "Vector Class:\n",
        "\n",
        "We define a class named Vector to represent a two-dimensional vector with x and y components.\n",
        "\n",
        "__init__(self, x, y) (Constructor): Initializes the x and y attributes.\n",
        "__str__(self) (Method Overriding): Overrides the string representation of the Vector object for easy printing.\n",
        "\n",
        "__add__(self, other) (Operator Overloading Method):\n",
        "\n",
        "__add__ is a special method in Python that gets automatically called when the addition operator (+) is used between two objects of the Vector class.\n",
        "\n",
        "self: Refers to the first Vector object in the addition (e.g., v1 in v1 + v2).\n",
        "other: Refers to the second operand (e.g., v2 in v1 + v2).\n",
        "\n",
        "Implementation:\n",
        "\n",
        "We first check if other is an instance of the Vector class using isinstance(). This ensures that we are only trying to add two vectors.\n",
        "If other is a Vector, we create a new Vector object whose x component is the sum of the x components of self and other, and similarly for the y component. This new Vector object (representing the sum) is then returned.\n",
        "If other is not a Vector, we raise a TypeError to indicate that addition is not defined between a Vector and that type.\n",
        "\n",
        "How Operator Overloading Works Here:\n",
        "\n",
        "When you use the + operator between v1 and v2 (v3 = v1 + v2), Python recognizes that v1 is an instance of the Vector class and looks for the __add__ method defined in that class. It then calls v1.__add__(v2), passing v1 as self and v2 as other. Our implemented __add__ method performs the vector addition and returns the resulting Vector object, which is then assigned to v3.\n",
        "\n",
        "Operator overloading allows you to define the behavior of standard operators (like +, -, *, ==, etc.) for your custom classes, making your objects behave more intuitively and naturally within expressions."
      ],
      "metadata": {
        "id": "Ss5ZrhfK166L"
      }
    },
    {
      "cell_type": "markdown",
      "source": [
        "# Q. 11. Create a class Person with attributes name and age. Add a method greet() that prints \"Hello, my name is {name} and I am {age} years old.\"\n",
        "\n",
        "\n"
      ],
      "metadata": {
        "id": "XG2oyJkv2S4-"
      }
    },
    {
      "cell_type": "code",
      "source": [
        "class Person:\n",
        "    def __init__(self, name, age):\n",
        "        self.name = name\n",
        "        self.age = age\n",
        "\n",
        "    def greet(self):\n",
        "        \"\"\"Prints a greeting message with the person's name and age.\"\"\"\n",
        "        print(f\"Hello, my name is {self.name} and I am {self.age} years old.\")\n",
        "\n",
        "# Example usage:\n",
        "person1 = Person(\"Alice\", 30)\n",
        "person1.greet()  # Output: Hello, my name is Alice and I am 30 years old.\n",
        "\n",
        "person2 = Person(\"Bob\", 25)\n",
        "person2.greet()  # Output: Hello, my name is Bob and I am 25 years old."
      ],
      "metadata": {
        "colab": {
          "base_uri": "https://localhost:8080/"
        },
        "id": "XSAj3l3F1w8R",
        "outputId": "1577b4df-c230-4988-ffa1-f4aac27b99fa"
      },
      "execution_count": 8,
      "outputs": [
        {
          "output_type": "stream",
          "name": "stdout",
          "text": [
            "Hello, my name is Alice and I am 30 years old.\n",
            "Hello, my name is Bob and I am 25 years old.\n"
          ]
        }
      ]
    },
    {
      "cell_type": "markdown",
      "source": [
        "Explanation:\n",
        "\n",
        "Person Class:\n",
        "\n",
        "We define a class named Person to represent a person.\n",
        "\n",
        "__init__(self, name, age) (Constructor):\n",
        "\n",
        "The constructor is called when a new Person object is created.\n",
        "It takes two arguments, name and age, and initializes the corresponding instance attributes self.name and self.age.\n",
        "\n",
        "greet(self) (Method):\n",
        "\n",
        "This is a regular instance method of the Person class.\n",
        "It takes self as the first argument (which refers to the specific Person object calling the method).\n",
        "\n",
        "Inside the method, it uses an f-string to create a greeting message that includes the name and age attributes of the Person object.\n",
        "Finally, it prints this greeting message to the console.\n",
        "\n",
        "How it Works:\n",
        "\n",
        "When you create an instance of the Person class (e.g., person1 = Person(\"Alice\", 30)), the __init__ method is called, and the name attribute of person1 is set to \"Alice\" and the age attribute is set to 30.\n",
        "\n",
        "Later, when you call the greet() method on that specific instance (person1.greet()), the greet() method accesses the name and age attributes of that particular person1 object and prints the customized greeting message. The same applies to person2. Each Person object has its own name and age, and the greet() method uses those specific values when it's called on that object."
      ],
      "metadata": {
        "id": "MnoT2cIn2njj"
      }
    },
    {
      "cell_type": "markdown",
      "source": [
        "#Q.12. Implement a class Student with attributes name and grades. Create a method average_grade() to compute the average of the grades."
      ],
      "metadata": {
        "id": "nq5oxZzz25g3"
      }
    },
    {
      "cell_type": "code",
      "source": [
        "class Student:\n",
        "    def __init__(self, name, grades=None):\n",
        "        \"\"\"\n",
        "        Initializes a Student object.\n",
        "\n",
        "        Args:\n",
        "            name (str): The name of the student.\n",
        "            grades (list, optional): A list of the student's grades. Defaults to an empty list.\n",
        "        \"\"\"\n",
        "        self.name = name\n",
        "        self.grades = grades if grades is not None else []\n",
        "\n",
        "    def add_grade(self, grade):\n",
        "        \"\"\"\n",
        "        Adds a grade to the student's list of grades.\n",
        "\n",
        "        Args:\n",
        "            grade (float or int): The grade to add.\n",
        "        \"\"\"\n",
        "        if isinstance(grade, (int, float)):\n",
        "            self.grades.append(grade)\n",
        "        else:\n",
        "            print(\"Invalid grade. Please enter a number.\")\n",
        "\n",
        "    def average_grade(self):\n",
        "        \"\"\"\n",
        "        Computes the average of the student's grades.\n",
        "\n",
        "        Returns:\n",
        "            float: The average grade, or 0 if there are no grades.\n",
        "        \"\"\"\n",
        "        if not self.grades:\n",
        "            return 0\n",
        "        return sum(self.grades) / len(self.grades)\n",
        "\n",
        "# Example usage:\n",
        "student1 = Student(\"Alice\", [85, 90, 78, 92])\n",
        "print(f\"{student1.name}'s grades: {student1.grades}\")\n",
        "print(f\"{student1.name}'s average grade: {student1.average_grade()}\")\n",
        "\n",
        "student2 = Student(\"Bob\")\n",
        "student2.add_grade(76)\n",
        "student2.add_grade(88)\n",
        "student2.add_grade(95)\n",
        "print(f\"{student2.name}'s grades: {student2.grades}\")\n",
        "print(f\"{student2.name}'s average grade: {student2.average_grade()}\")\n",
        "\n",
        "student3 = Student(\"Charlie\")\n",
        "print(f\"{student3.name}'s grades: {student3.grades}\")\n",
        "print(f\"{student3.name}'s average grade: {student3.average_grade()}\")"
      ],
      "metadata": {
        "colab": {
          "base_uri": "https://localhost:8080/"
        },
        "id": "W5g133gq2d8Y",
        "outputId": "fb35362a-984f-4a86-f659-b001e3ecb48b"
      },
      "execution_count": 9,
      "outputs": [
        {
          "output_type": "stream",
          "name": "stdout",
          "text": [
            "Alice's grades: [85, 90, 78, 92]\n",
            "Alice's average grade: 86.25\n",
            "Bob's grades: [76, 88, 95]\n",
            "Bob's average grade: 86.33333333333333\n",
            "Charlie's grades: []\n",
            "Charlie's average grade: 0\n"
          ]
        }
      ]
    },
    {
      "cell_type": "markdown",
      "source": [
        "Explanation:\n",
        "\n",
        "Student Class:\n",
        "\n",
        "We define a class named Student to represent a student.\n",
        "\n",
        "__init__(self, name, grades=None) (Constructor):\n",
        "\n",
        "The constructor initializes the name attribute of the student.\n",
        "It also initializes the grades attribute as a list. If no grades list is provided during object creation, it defaults to an empty list ([]). This makes it flexible to create students with or without initial grades.\n",
        "\n",
        "add_grade(self, grade) (Method):\n",
        "\n",
        "This method allows you to add a new grade to the student's grades list.\n",
        "It includes a basic check to ensure that the grade being added is a number (either an integer or a float).\n",
        "\n",
        "average_grade(self) (Method):\n",
        "\n",
        "This method calculates the average of the grades in the self.grades list.\n",
        "It first checks if the grades list is empty. If it is, it returns 0 to avoid division by zero.\n",
        "\n",
        "If there are grades, it uses the built-in sum() function to calculate the sum of all grades and len() to get the number of grades. The average is then computed by dividing the sum by the count.\n",
        "\n",
        "How it Works:\n",
        "\n",
        "When you create a Student object, you can optionally provide a list of initial grades. You can then use the add_grade() method to add more grades later. The average_grade() method calculates and returns the average of all the grades currently stored in the student's grades list."
      ],
      "metadata": {
        "id": "fXMIhZZg3cLK"
      }
    },
    {
      "cell_type": "markdown",
      "source": [
        "# Q. 13. Create a class Rectangle with methods set_dimensions() to set the dimensions and area() to calculate the area.\n",
        "\n",
        "\n"
      ],
      "metadata": {
        "id": "mNyQ6iFe3s4q"
      }
    },
    {
      "cell_type": "code",
      "source": [
        "class Rectangle:\n",
        "    def __init__(self, length=0, width=0):\n",
        "        \"\"\"\n",
        "        Initializes a Rectangle object with optional initial length and width.\n",
        "\n",
        "        Args:\n",
        "            length (float or int, optional): The initial length of the rectangle. Defaults to 0.\n",
        "            width (float or int, optional): The initial width of the rectangle. Defaults to 0.\n",
        "        \"\"\"\n",
        "        self.length = length\n",
        "        self.width = width\n",
        "\n",
        "    def set_dimensions(self, length, width):\n",
        "        \"\"\"\n",
        "        Sets the length and width of the rectangle.\n",
        "\n",
        "        Args:\n",
        "            length (float or int): The new length of the rectangle.\n",
        "            width (float or int): The new width of the rectangle.\n",
        "        \"\"\"\n",
        "        if isinstance(length, (int, float)) and isinstance(width, (int, float)) and length >= 0 and width >= 0:\n",
        "            self.length = length\n",
        "            self.width = width\n",
        "        else:\n",
        "            print(\"Invalid dimensions. Length and width must be non-negative numbers.\")\n",
        "\n",
        "    def area(self):\n",
        "        \"\"\"\n",
        "        Calculates the area of the rectangle.\n",
        "\n",
        "        Returns:\n",
        "            float or int: The area of the rectangle.\n",
        "        \"\"\"\n",
        "        return self.length * self.width\n",
        "\n",
        "# Example usage:\n",
        "rectangle1 = Rectangle()\n",
        "print(f\"Initial area of rectangle1: {rectangle1.area()}\")  # Output: 0.0\n",
        "\n",
        "rectangle1.set_dimensions(5, 10)\n",
        "print(f\"Area of rectangle1 after setting dimensions: {rectangle1.area()}\")  # Output: 50\n",
        "\n",
        "rectangle2 = Rectangle(7, 3)\n",
        "print(f\"Initial area of rectangle2: {rectangle2.area()}\")  # Output: 21\n",
        "\n",
        "rectangle2.set_dimensions(8, -2)  # Invalid width\n",
        "print(f\"Area of rectangle2 after attempting to set invalid dimensions: {rectangle2.area()}\") # Output: 21 (dimensions not changed)"
      ],
      "metadata": {
        "colab": {
          "base_uri": "https://localhost:8080/"
        },
        "id": "R-5ywAl03FTD",
        "outputId": "05aad4fe-00a4-4f40-f378-877722c50b39"
      },
      "execution_count": 10,
      "outputs": [
        {
          "output_type": "stream",
          "name": "stdout",
          "text": [
            "Initial area of rectangle1: 0\n",
            "Area of rectangle1 after setting dimensions: 50\n",
            "Initial area of rectangle2: 21\n",
            "Invalid dimensions. Length and width must be non-negative numbers.\n",
            "Area of rectangle2 after attempting to set invalid dimensions: 21\n"
          ]
        }
      ]
    },
    {
      "cell_type": "markdown",
      "source": [
        "Explanation:\n",
        "\n",
        "Rectangle Class:\n",
        "\n",
        "We define a class named Rectangle to represent a rectangle.\n",
        "\n",
        "__init__(self, length=0, width=0) (Constructor):\n",
        "\n",
        "The constructor initializes the length and width attributes of the Rectangle object. It provides default values of 0 for both, allowing you to create a rectangle without immediately specifying its dimensions.\n",
        "\n",
        "set_dimensions(self, length, width) (Method):\n",
        "\n",
        "This method allows you to set or change the length and width of the rectangle after it has been created.\n",
        "\n",
        "It includes a basic validation check to ensure that the provided length and width are non-negative numbers. If the input is invalid, it prints an error message and does not update the dimensions.\n",
        "\n",
        "area(self) (Method):\n",
        "\n",
        "This method calculates the area of the rectangle by multiplying its length and width attributes.\n",
        "It returns the calculated area.\n",
        "\n",
        "How it Works:\n",
        "\n",
        "You can create Rectangle objects, either with initial dimensions or without. The set_dimensions() method allows you to modify the dimensions later. The area() method then uses the current length and width of the rectangle to calculate and return its area. The validation in set_dimensions() helps to maintain the integrity of the rectangle's properties."
      ],
      "metadata": {
        "id": "B1HxnnVk4MKu"
      }
    },
    {
      "cell_type": "markdown",
      "source": [
        "Q 14. Create a class Employee with a method calculate_salary() that computes the salary based on hours worked and hourly rate. Create a derived class Manager that adds a bonus to the salary"
      ],
      "metadata": {
        "id": "2X2jqdX44bG4"
      }
    },
    {
      "cell_type": "code",
      "source": [
        "class Employee:\n",
        "    def __init__(self, name, hourly_rate, hours_worked):\n",
        "        \"\"\"\n",
        "        Initializes an Employee object.\n",
        "\n",
        "        Args:\n",
        "            name (str): The name of the employee.\n",
        "            hourly_rate (float or int): The hourly rate of the employee.\n",
        "            hours_worked (float or int): The number of hours worked by the employee.\n",
        "        \"\"\"\n",
        "        self.name = name\n",
        "        self.hourly_rate = hourly_rate\n",
        "        self.hours_worked = hours_worked\n",
        "\n",
        "    def calculate_salary(self):\n",
        "        \"\"\"\n",
        "        Calculates the salary of the employee.\n",
        "\n",
        "        Returns:\n",
        "            float or int: The salary of the employee.\n",
        "        \"\"\"\n",
        "        return self.hourly_rate * self.hours_worked\n",
        "\n",
        "class Manager(Employee):\n",
        "    def __init__(self, name, hourly_rate, hours_worked, bonus):\n",
        "        \"\"\"\n",
        "        Initializes a Manager object, inheriting from Employee.\n",
        "\n",
        "        Args:\n",
        "            name (str): The name of the manager.\n",
        "            hourly_rate (float or int): The hourly rate of the manager.\n",
        "            hours_worked (float or int): The number of hours worked by the manager.\n",
        "            bonus (float or int): The bonus amount for the manager.\n",
        "        \"\"\"\n",
        "        super().__init__(name, hourly_rate, hours_worked)  # Call the constructor of the Employee class\n",
        "        self.bonus = bonus\n",
        "\n",
        "    def calculate_salary(self):\n",
        "        \"\"\"\n",
        "        Calculates the salary of the manager, including the bonus.\n",
        "\n",
        "        Returns:\n",
        "            float or int: The salary of the manager, including the bonus.\n",
        "        \"\"\"\n",
        "        # Get the base salary from the Employee class's calculate_salary() method\n",
        "        base_salary = super().calculate_salary()\n",
        "        return base_salary + self.bonus\n",
        "\n",
        "# Example usage:\n",
        "employee1 = Employee(\"Alice\", 20, 40)\n",
        "print(f\"{employee1.name}'s salary: ${employee1.calculate_salary()}\")  # Output: $800\n",
        "\n",
        "manager1 = Manager(\"Bob\", 30, 40, 500)\n",
        "print(f\"{manager1.name}'s salary: ${manager1.calculate_salary()}\")  # Output: $1700\n"
      ],
      "metadata": {
        "colab": {
          "base_uri": "https://localhost:8080/"
        },
        "id": "7R8ZKRJn4Dni",
        "outputId": "1b7621f6-9643-402b-b9a0-0c55707e4966"
      },
      "execution_count": 11,
      "outputs": [
        {
          "output_type": "stream",
          "name": "stdout",
          "text": [
            "Alice's salary: $800\n",
            "Bob's salary: $1700\n"
          ]
        }
      ]
    },
    {
      "cell_type": "markdown",
      "source": [
        "Explanation:\n",
        "\n",
        "Employee Class:\n",
        "\n",
        "We define a class Employee with an __init__ method to initialize the employee's name, hourly_rate, and hours_worked.\n",
        "\n",
        "It has a method calculate_salary() that calculates the salary by multiplying the hourly rate and hours worked.\n",
        "\n",
        "Manager Class (Derived Class):\n",
        "\n",
        "The Manager class inherits from the Employee class.\n",
        "\n",
        "Its __init__ method calls the Employee class's __init__ method using super().__init__(name, hourly_rate, hours_worked) to initialize the inherited\n",
        "attributes. It also adds a bonus attribute specific to managers.\n",
        "\n",
        "The calculate_salary() method is overridden in the Manager class. It calls the calculate_salary() method of the Employee class using super().calculate_salary() to get the base salary and then adds the manager's bonus to it.\n",
        "\n",
        "This example demonstrates inheritance and method overriding. The Manager class inherits the attributes and methods of the Employee class and extends them to include a bonus. The calculate_salary() method is overridden to provide the specific salary calculation logic for managers."
      ],
      "metadata": {
        "id": "YL26zmbK5Cut"
      }
    },
    {
      "cell_type": "markdown",
      "source": [
        "# Q. 15. Create a class Product with attributes name, price, and quantity. Implement a method total_price() that calculates the total price of the product."
      ],
      "metadata": {
        "id": "Lz6B0b8d5Zpi"
      }
    },
    {
      "cell_type": "code",
      "source": [
        "class Product:\n",
        "    def __init__(self, name, price, quantity):\n",
        "        \"\"\"\n",
        "        Initializes a Product object.\n",
        "\n",
        "        Args:\n",
        "            name (str): The name of the product.\n",
        "            price (float or int): The price of the product.\n",
        "            quantity (int): The quantity of the product.\n",
        "        \"\"\"\n",
        "        self.name = name\n",
        "        self.price = price\n",
        "        self.quantity = quantity\n",
        "\n",
        "    def total_price(self):\n",
        "        \"\"\"\n",
        "        Calculates the total price of the product.\n",
        "\n",
        "        Returns:\n",
        "            float or int: The total price of the product.\n",
        "        \"\"\"\n",
        "        return self.price * self.quantity\n",
        "\n",
        "# Example usage:\n",
        "product1 = Product(\"Laptop\", 1200, 5)\n",
        "print(f\"Total price of {product1.name}: ${product1.total_price()}\")\n",
        "\n",
        "product2 = Product(\"Mouse\", 25, 20)\n",
        "print(f\"Total price of {product2.name}: ${product2.total_price()}\")\n"
      ],
      "metadata": {
        "colab": {
          "base_uri": "https://localhost:8080/"
        },
        "id": "DvFJYdg943gn",
        "outputId": "2f6de847-d061-4b19-ab79-2b4c1b0939e8"
      },
      "execution_count": 12,
      "outputs": [
        {
          "output_type": "stream",
          "name": "stdout",
          "text": [
            "Total price of Laptop: $6000\n",
            "Total price of Mouse: $500\n"
          ]
        }
      ]
    },
    {
      "cell_type": "markdown",
      "source": [
        "Explanation:\n",
        "\n",
        "Product Class:\n",
        "We define a class Product with an __init__ method to initialize the product's name, price, and quantity.\n",
        "It has a method total_price() that calculates the total price by multiplying the price and quantity.\n",
        "This code defines a Product class and calculates the total price of a product by multiplying its price and quantity."
      ],
      "metadata": {
        "id": "jBfEbO-c5zQ8"
      }
    },
    {
      "cell_type": "markdown",
      "source": [
        "# Q. 16. Create a class Animal with an abstract method sound(). Create two derived classes Cow and Sheep that implement the sound() method."
      ],
      "metadata": {
        "id": "n02ZQp9m553i"
      }
    },
    {
      "cell_type": "code",
      "source": [
        "from abc import ABC, abstractmethod\n",
        "\n",
        "class Animal(ABC):\n",
        "    \"\"\"\n",
        "    An abstract base class for animals.\n",
        "    \"\"\"\n",
        "    @abstractmethod\n",
        "    def sound(self):\n",
        "        \"\"\"\n",
        "        Abstract method to define the sound of an animal.\n",
        "        This method must be implemented by any concrete subclass.\n",
        "        \"\"\"\n",
        "        pass\n",
        "\n",
        "class Cow(Animal):\n",
        "    \"\"\"\n",
        "    A concrete class representing a cow.\n",
        "    \"\"\"\n",
        "    def sound(self):\n",
        "        \"\"\"\n",
        "        Implementation of the sound() method for Cow.\n",
        "        \"\"\"\n",
        "        print(\"Cow says: Moo!\")\n",
        "\n",
        "class Sheep(Animal):\n",
        "    \"\"\"\n",
        "    A concrete class representing a sheep.\n",
        "    \"\"\"\n",
        "    def sound(self):\n",
        "        \"\"\"\n",
        "        Implementation of the sound() method for Sheep.\n",
        "        \"\"\"\n",
        "        print(\"Sheep says: Baa!\")\n",
        "\n",
        "# Example usage:\n",
        "cow = Cow()\n",
        "sheep = Sheep()\n",
        "\n",
        "animals = [cow, sheep]  # Polymorphism in action\n",
        "\n",
        "for animal in animals:\n",
        "    animal.sound()  # Calls the appropriate sound() method for each animal\n"
      ],
      "metadata": {
        "colab": {
          "base_uri": "https://localhost:8080/"
        },
        "id": "aesRxerz5raz",
        "outputId": "c40db1c0-757d-4ae6-b167-91dfcb6bf432"
      },
      "execution_count": 13,
      "outputs": [
        {
          "output_type": "stream",
          "name": "stdout",
          "text": [
            "Cow says: Moo!\n",
            "Sheep says: Baa!\n"
          ]
        }
      ]
    },
    {
      "cell_type": "markdown",
      "source": [
        "Explanation:\n",
        "\n",
        "Animal Class:\n",
        "\n",
        "We define an abstract base class Animal using ABC and @abstractmethod.\n",
        "The sound() method is declared as abstract, meaning it has no implementation in the Animal class. It serves as a placeholder that must be implemented by any concrete subclass.\n",
        "\n",
        "Cow and Sheep Classes:\n",
        "\n",
        "We define concrete classes Cow and Sheep that inherit from Animal.\n",
        "Both Cow and Sheep provide their own implementations of the sound() method, specifying the distinct sounds each animal makes.\n",
        "\n",
        "Polymorphism:\n",
        "\n",
        "The animals list holds objects of different types (Cow and Sheep), both derived from the Animal class.\n",
        "\n",
        "When we iterate through the list and call animal.sound(), the specific sound() method of each object is executed. This is runtime polymorphism: the correct method is determined at runtime based on the actual object's type.\n",
        "\n",
        "\n",
        "\n",
        "\n"
      ],
      "metadata": {
        "id": "zYfEUwGo6NgA"
      }
    },
    {
      "cell_type": "markdown",
      "source": [
        "# Q. 17. Create a class Book with attributes title, author, and year_published. Add a method get_book_info() that returns a formatted string with the book's details."
      ],
      "metadata": {
        "id": "XKgs9pMc6fm8"
      }
    },
    {
      "cell_type": "code",
      "source": [
        "class Book:\n",
        "    def __init__(self, title, author, year_published):\n",
        "        \"\"\"\n",
        "        Initializes a Book object.\n",
        "\n",
        "        Args:\n",
        "            title (str): The title of the book.\n",
        "            author (str): The author of the book.\n",
        "            year_published (int): The year the book was published.\n",
        "        \"\"\"\n",
        "        self.title = title\n",
        "        self.author = author\n",
        "        self.year_published = year_published\n",
        "\n",
        "    def get_book_info(self):\n",
        "        \"\"\"\n",
        "        Returns a formatted string with the book's details.\n",
        "\n",
        "        Returns:\n",
        "            str: A string containing the book's title, author, and year of publication.\n",
        "        \"\"\"\n",
        "        return f\"Title: {self.title}, Author: {self.author}, Year Published: {self.year_published}\"\n",
        "\n",
        "# Example usage:\n",
        "book1 = Book(\"The Lord of the Rings\", \"J.R.R. Tolkien\", 1954)\n",
        "book2 = Book(\"Pride and Prejudice\", \"Jane Austen\", 1813)\n",
        "\n",
        "print(book1.get_book_info())\n",
        "print(book2.get_book_info())\n"
      ],
      "metadata": {
        "colab": {
          "base_uri": "https://localhost:8080/"
        },
        "id": "ZQTl8pta6FOr",
        "outputId": "838fe664-ca4e-4e42-acfb-5df8bc2f8256"
      },
      "execution_count": 14,
      "outputs": [
        {
          "output_type": "stream",
          "name": "stdout",
          "text": [
            "Title: The Lord of the Rings, Author: J.R.R. Tolkien, Year Published: 1954\n",
            "Title: Pride and Prejudice, Author: Jane Austen, Year Published: 1813\n"
          ]
        }
      ]
    },
    {
      "cell_type": "markdown",
      "source": [
        "Explanation:\n",
        "\n",
        "Book Class:\n",
        "\n",
        "We define a class Book with an __init__ method to initialize the book's title, author, and year_published.\n",
        "\n",
        "It has a method get_book_info() that formats and returns a string containing the book's details.\n",
        "\n",
        "This code defines a Book class and returns a formatted string with the book's title, author, and year of publication."
      ],
      "metadata": {
        "id": "w0jCCFga7YfB"
      }
    },
    {
      "cell_type": "markdown",
      "source": [
        "# Q.18. Create a class House with attributes address and price. Create a derived class Mansion that adds an attribute number_of_rooms."
      ],
      "metadata": {
        "id": "e2E-hAAL7rdI"
      }
    },
    {
      "cell_type": "code",
      "source": [
        "class House:\n",
        "    def __init__(self, address, price):\n",
        "        \"\"\"\n",
        "        Initializes a House object.\n",
        "\n",
        "        Args:\n",
        "            address (str): The address of the house.\n",
        "            price (float or int): The price of the house.\n",
        "        \"\"\"\n",
        "        self.address = address\n",
        "        self.price = price\n",
        "\n",
        "    def get_details(self):\n",
        "        \"\"\"\n",
        "        Returns a formatted string with the house's address and price.\n",
        "        \"\"\"\n",
        "        return f\"Address: {self.address}, Price: ${self.price}\"\n",
        "\n",
        "\n",
        "class Mansion(House):\n",
        "    def __init__(self, address, price, number_of_rooms):\n",
        "        \"\"\"\n",
        "        Initializes a Mansion object, inheriting from House.\n",
        "\n",
        "        Args:\n",
        "            address (str): The address of the mansion.\n",
        "            price (float or int): The price of the mansion.\n",
        "            number_of_rooms (int): The number of rooms in the mansion.\n",
        "        \"\"\"\n",
        "        super().__init__(address, price)  # Call the constructor of the House class\n",
        "        self.number_of_rooms = number_of_rooms\n",
        "\n",
        "    def get_details(self):\n",
        "        \"\"\"\n",
        "        Returns a formatted string with the mansion's details, including the number of rooms.\n",
        "        \"\"\"\n",
        "        house_details = super().get_details() # Get details from the House class\n",
        "        return f\"{house_details}, Number of Rooms: {self.number_of_rooms}\"\n",
        "\n",
        "\n",
        "# Example usage:\n",
        "house1 = House(\"123 Main St\", 250000)\n",
        "print(house1.get_details())\n",
        "\n",
        "mansion1 = Mansion(\"456 Luxury Ave\", 1500000, 10)\n",
        "print(mansion1.get_details())\n"
      ],
      "metadata": {
        "colab": {
          "base_uri": "https://localhost:8080/"
        },
        "id": "ir3IIluV7Q9-",
        "outputId": "93ceeb08-6a9b-4fd0-cae2-e74f467cc28f"
      },
      "execution_count": 15,
      "outputs": [
        {
          "output_type": "stream",
          "name": "stdout",
          "text": [
            "Address: 123 Main St, Price: $250000\n",
            "Address: 456 Luxury Ave, Price: $1500000, Number of Rooms: 10\n"
          ]
        }
      ]
    },
    {
      "cell_type": "markdown",
      "source": [
        "Explanation:\n",
        "\n",
        "House Class:\n",
        "\n",
        "We define a class House with an __init__ method to initialize the house's address and price.\n",
        "It has a method get_details() that returns a formatted string with the house's address and price.\n",
        "\n",
        "Mansion Class (Derived Class):\n",
        "\n",
        "The Mansion class inherits from the House class.\n",
        "\n",
        "Its __init__ method calls the House class's __init__ method using super().__init__(address, price) to initialize the inherited attributes. It also adds a number_of_rooms attribute specific to mansions.\n",
        "\n",
        "The get_details() method is overridden in the Mansion class. It calls the get_details() method of the House class using super().get_details() to get the basic house details and then adds the number of rooms to the string."
      ],
      "metadata": {
        "id": "7oYjEg6U8C1r"
      }
    },
    {
      "cell_type": "code",
      "source": [],
      "metadata": {
        "id": "q71isyXl73Bt"
      },
      "execution_count": null,
      "outputs": []
    }
  ]
}